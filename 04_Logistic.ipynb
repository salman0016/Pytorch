{
 "cells": [
  {
   "cell_type": "code",
   "execution_count": 1,
   "id": "c3ffca1f",
   "metadata": {},
   "outputs": [],
   "source": [
    "import torch\n",
    "import torch.nn as nn\n",
    "import numpy as np\n",
    "from sklearn import datasets\n",
    "from sklearn.preprocessing import StandardScaler\n",
    "from sklearn.model_selection import train_test_split"
   ]
  },
  {
   "cell_type": "code",
   "execution_count": 2,
   "id": "65e3d165",
   "metadata": {},
   "outputs": [],
   "source": [
    "bc = datasets.load_breast_cancer()"
   ]
  },
  {
   "cell_type": "code",
   "execution_count": 3,
   "id": "e724daa0",
   "metadata": {},
   "outputs": [],
   "source": [
    "X,y = bc.data,bc.target"
   ]
  },
  {
   "cell_type": "code",
   "execution_count": 4,
   "id": "7cd585eb",
   "metadata": {},
   "outputs": [],
   "source": [
    "n_sample,n_features = X.shape"
   ]
  },
  {
   "cell_type": "code",
   "execution_count": 5,
   "id": "1cf11702",
   "metadata": {},
   "outputs": [
    {
     "name": "stdout",
     "output_type": "stream",
     "text": [
      "569 30\n"
     ]
    }
   ],
   "source": [
    "print(n_sample,n_features)"
   ]
  },
  {
   "cell_type": "code",
   "execution_count": 6,
   "id": "c5598bb4",
   "metadata": {},
   "outputs": [],
   "source": [
    "X_train,X_test,y_train,y_test = train_test_split(X,y,test_size=0.2,random_state=1234)"
   ]
  },
  {
   "cell_type": "code",
   "execution_count": 7,
   "id": "02e42850",
   "metadata": {},
   "outputs": [],
   "source": [
    "sc = StandardScaler()\n",
    "X_train = sc.fit_transform(X_train)\n",
    "X_test = sc.transform(X_test)"
   ]
  },
  {
   "cell_type": "code",
   "execution_count": 8,
   "id": "f3c640f4",
   "metadata": {},
   "outputs": [],
   "source": [
    "X_train = torch.from_numpy(X_train.astype(np.float32))\n",
    "X_test = torch.from_numpy(X_test.astype(np.float32))\n",
    "y_train = torch.from_numpy(y_train.astype(np.float32))\n",
    "y_test = torch.from_numpy(y_test.astype(np.float32))"
   ]
  },
  {
   "cell_type": "code",
   "execution_count": 9,
   "id": "0644ab6a",
   "metadata": {},
   "outputs": [],
   "source": [
    "y_train = y_train.view(y_train.shape[0],1)\n",
    "y_test = y_test.view(y_test.shape[0],1)"
   ]
  },
  {
   "cell_type": "code",
   "execution_count": 10,
   "id": "a6e09ebc",
   "metadata": {},
   "outputs": [
    {
     "data": {
      "text/plain": [
       "torch.Size([455, 1])"
      ]
     },
     "execution_count": 10,
     "metadata": {},
     "output_type": "execute_result"
    }
   ],
   "source": [
    "y_train.shape"
   ]
  },
  {
   "cell_type": "code",
   "execution_count": 11,
   "id": "f27cfb20",
   "metadata": {},
   "outputs": [],
   "source": [
    "# model (f = wx+b,then sigmoid at end)"
   ]
  },
  {
   "cell_type": "code",
   "execution_count": 12,
   "id": "95ca23ac",
   "metadata": {},
   "outputs": [],
   "source": [
    "class LogisticRegression(nn.Module):\n",
    "    def __init__(self,n_input_features):\n",
    "        super(LogisticRegression,self).__init__()\n",
    "        self.linear = nn.Linear(n_input_features,1)\n",
    "    def forward(self,x):\n",
    "        y_predicted = torch.sigmoid(self.linear(x))\n",
    "        return y_predicted"
   ]
  },
  {
   "cell_type": "code",
   "execution_count": 13,
   "id": "9a9685bc",
   "metadata": {},
   "outputs": [],
   "source": [
    "model = LogisticRegression(n_features)"
   ]
  },
  {
   "cell_type": "code",
   "execution_count": 14,
   "id": "f5bf062d",
   "metadata": {},
   "outputs": [],
   "source": [
    "#loss\n",
    "learning_rate = 0.01\n",
    "criterion = nn.BCELoss()\n",
    "optimizer = torch.optim.SGD(model.parameters(),lr=learning_rate)"
   ]
  },
  {
   "cell_type": "code",
   "execution_count": 15,
   "id": "82ee5db4",
   "metadata": {},
   "outputs": [
    {
     "name": "stdout",
     "output_type": "stream",
     "text": [
      "epoch:1,loss=0.4687\n",
      "epoch:2,loss=0.4614\n",
      "epoch:3,loss=0.4544\n",
      "epoch:4,loss=0.4477\n",
      "epoch:5,loss=0.4412\n",
      "epoch:6,loss=0.4350\n",
      "epoch:7,loss=0.4291\n",
      "epoch:8,loss=0.4233\n",
      "epoch:9,loss=0.4178\n",
      "epoch:10,loss=0.4124\n",
      "epoch:11,loss=0.4072\n",
      "epoch:12,loss=0.4023\n",
      "epoch:13,loss=0.3974\n",
      "epoch:14,loss=0.3928\n",
      "epoch:15,loss=0.3883\n",
      "epoch:16,loss=0.3839\n",
      "epoch:17,loss=0.3796\n",
      "epoch:18,loss=0.3755\n",
      "epoch:19,loss=0.3716\n",
      "epoch:20,loss=0.3677\n",
      "epoch:21,loss=0.3639\n",
      "epoch:22,loss=0.3603\n",
      "epoch:23,loss=0.3568\n",
      "epoch:24,loss=0.3533\n",
      "epoch:25,loss=0.3500\n",
      "epoch:26,loss=0.3467\n",
      "epoch:27,loss=0.3435\n",
      "epoch:28,loss=0.3404\n",
      "epoch:29,loss=0.3374\n",
      "epoch:30,loss=0.3345\n",
      "epoch:31,loss=0.3316\n",
      "epoch:32,loss=0.3288\n",
      "epoch:33,loss=0.3261\n",
      "epoch:34,loss=0.3235\n",
      "epoch:35,loss=0.3209\n",
      "epoch:36,loss=0.3183\n",
      "epoch:37,loss=0.3158\n",
      "epoch:38,loss=0.3134\n",
      "epoch:39,loss=0.3111\n",
      "epoch:40,loss=0.3087\n",
      "epoch:41,loss=0.3065\n",
      "epoch:42,loss=0.3043\n",
      "epoch:43,loss=0.3021\n",
      "epoch:44,loss=0.3000\n",
      "epoch:45,loss=0.2979\n",
      "epoch:46,loss=0.2958\n",
      "epoch:47,loss=0.2938\n",
      "epoch:48,loss=0.2919\n",
      "epoch:49,loss=0.2900\n",
      "epoch:50,loss=0.2881\n",
      "epoch:51,loss=0.2862\n",
      "epoch:52,loss=0.2844\n",
      "epoch:53,loss=0.2827\n",
      "epoch:54,loss=0.2809\n",
      "epoch:55,loss=0.2792\n",
      "epoch:56,loss=0.2775\n",
      "epoch:57,loss=0.2759\n",
      "epoch:58,loss=0.2742\n",
      "epoch:59,loss=0.2727\n",
      "epoch:60,loss=0.2711\n",
      "epoch:61,loss=0.2695\n",
      "epoch:62,loss=0.2680\n",
      "epoch:63,loss=0.2666\n",
      "epoch:64,loss=0.2651\n",
      "epoch:65,loss=0.2636\n",
      "epoch:66,loss=0.2622\n",
      "epoch:67,loss=0.2608\n",
      "epoch:68,loss=0.2595\n",
      "epoch:69,loss=0.2581\n",
      "epoch:70,loss=0.2568\n",
      "epoch:71,loss=0.2555\n",
      "epoch:72,loss=0.2542\n",
      "epoch:73,loss=0.2529\n",
      "epoch:74,loss=0.2517\n",
      "epoch:75,loss=0.2505\n",
      "epoch:76,loss=0.2493\n",
      "epoch:77,loss=0.2481\n",
      "epoch:78,loss=0.2469\n",
      "epoch:79,loss=0.2457\n",
      "epoch:80,loss=0.2446\n",
      "epoch:81,loss=0.2435\n",
      "epoch:82,loss=0.2423\n",
      "epoch:83,loss=0.2413\n",
      "epoch:84,loss=0.2402\n",
      "epoch:85,loss=0.2391\n",
      "epoch:86,loss=0.2381\n",
      "epoch:87,loss=0.2370\n",
      "epoch:88,loss=0.2360\n",
      "epoch:89,loss=0.2350\n",
      "epoch:90,loss=0.2340\n",
      "epoch:91,loss=0.2330\n",
      "epoch:92,loss=0.2320\n",
      "epoch:93,loss=0.2311\n",
      "epoch:94,loss=0.2301\n",
      "epoch:95,loss=0.2292\n",
      "epoch:96,loss=0.2283\n",
      "epoch:97,loss=0.2274\n",
      "epoch:98,loss=0.2265\n",
      "epoch:99,loss=0.2256\n",
      "epoch:100,loss=0.2247\n"
     ]
    }
   ],
   "source": [
    "#training loop\n",
    "num_epoch = 100\n",
    "for epoch in range(num_epoch):\n",
    "    y_predicted = model(X_train)\n",
    "    loss = criterion(y_predicted,y_train)\n",
    "    #back pass\n",
    "    loss.backward()\n",
    "    # update\n",
    "    optimizer.step()\n",
    "    optimizer.zero_grad()\n",
    "    if (epoch+1) % 1 == 0:\n",
    "        print(f'epoch:{epoch+1},loss={loss.item():.4f}')"
   ]
  },
  {
   "cell_type": "code",
   "execution_count": 16,
   "id": "732fc4e1",
   "metadata": {},
   "outputs": [
    {
     "name": "stdout",
     "output_type": "stream",
     "text": [
      "accuracy: = 0.8947\n"
     ]
    }
   ],
   "source": [
    "#testing\n",
    "\n",
    "with torch.no_grad():\n",
    "    y_predicted = model(X_test)\n",
    "    y_predicted_cls = y_predicted.round()\n",
    "    acc = y_predicted_cls.eq(y_test).sum()/float(y_test.shape[0])\n",
    "    \n",
    "print(f'accuracy: = {acc:.4f}')"
   ]
  },
  {
   "cell_type": "code",
   "execution_count": null,
   "id": "f1006d11",
   "metadata": {},
   "outputs": [],
   "source": []
  }
 ],
 "metadata": {
  "kernelspec": {
   "display_name": "Python 3 (ipykernel)",
   "language": "python",
   "name": "python3"
  },
  "language_info": {
   "codemirror_mode": {
    "name": "ipython",
    "version": 3
   },
   "file_extension": ".py",
   "mimetype": "text/x-python",
   "name": "python",
   "nbconvert_exporter": "python",
   "pygments_lexer": "ipython3",
   "version": "3.9.7"
  }
 },
 "nbformat": 4,
 "nbformat_minor": 5
}

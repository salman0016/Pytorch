{
 "cells": [
  {
   "cell_type": "code",
   "execution_count": 1,
   "id": "66e615a5",
   "metadata": {},
   "outputs": [],
   "source": [
    "import torch\n",
    "import torch.nn as nn\n",
    "import torchvision\n",
    "import torchvision.transforms as transforms\n",
    "import matplotlib.pyplot as plt"
   ]
  },
  {
   "cell_type": "code",
   "execution_count": 2,
   "id": "9e69f947",
   "metadata": {},
   "outputs": [],
   "source": [
    "device = torch.device('cuda' if torch.cuda.is_available() else 'cpu')"
   ]
  },
  {
   "cell_type": "code",
   "execution_count": 3,
   "id": "7289fad0",
   "metadata": {},
   "outputs": [
    {
     "data": {
      "text/plain": [
       "device(type='cpu')"
      ]
     },
     "execution_count": 3,
     "metadata": {},
     "output_type": "execute_result"
    }
   ],
   "source": [
    "device"
   ]
  },
  {
   "cell_type": "code",
   "execution_count": 4,
   "id": "58bec3d5",
   "metadata": {},
   "outputs": [],
   "source": [
    "#Hyperparameters"
   ]
  },
  {
   "cell_type": "code",
   "execution_count": 5,
   "id": "461592dd",
   "metadata": {},
   "outputs": [],
   "source": [
    "input_size = 784\n",
    "hidden_size = 100\n",
    "num_classes = 10\n",
    "num_epochs = 20\n",
    "batch_size = 100\n",
    "learning_rate = 0.001"
   ]
  },
  {
   "cell_type": "code",
   "execution_count": 6,
   "id": "33258284",
   "metadata": {},
   "outputs": [
    {
     "name": "stdout",
     "output_type": "stream",
     "text": [
      "Downloading http://yann.lecun.com/exdb/mnist/train-images-idx3-ubyte.gz\n",
      "Downloading http://yann.lecun.com/exdb/mnist/train-images-idx3-ubyte.gz to data/MNIST/raw/train-images-idx3-ubyte.gz\n"
     ]
    },
    {
     "data": {
      "application/vnd.jupyter.widget-view+json": {
       "model_id": "f7e75075c1e041ef9b1fc1cc2fc58497",
       "version_major": 2,
       "version_minor": 0
      },
      "text/plain": [
       "  0%|          | 0/9912422 [00:00<?, ?it/s]"
      ]
     },
     "metadata": {},
     "output_type": "display_data"
    },
    {
     "name": "stdout",
     "output_type": "stream",
     "text": [
      "Extracting data/MNIST/raw/train-images-idx3-ubyte.gz to data/MNIST/raw\n",
      "\n",
      "Downloading http://yann.lecun.com/exdb/mnist/train-labels-idx1-ubyte.gz\n",
      "Downloading http://yann.lecun.com/exdb/mnist/train-labels-idx1-ubyte.gz to data/MNIST/raw/train-labels-idx1-ubyte.gz\n"
     ]
    },
    {
     "data": {
      "application/vnd.jupyter.widget-view+json": {
       "model_id": "b2b74174685a4921b5defacf421363d0",
       "version_major": 2,
       "version_minor": 0
      },
      "text/plain": [
       "  0%|          | 0/28881 [00:00<?, ?it/s]"
      ]
     },
     "metadata": {},
     "output_type": "display_data"
    },
    {
     "name": "stdout",
     "output_type": "stream",
     "text": [
      "Extracting data/MNIST/raw/train-labels-idx1-ubyte.gz to data/MNIST/raw\n",
      "\n",
      "Downloading http://yann.lecun.com/exdb/mnist/t10k-images-idx3-ubyte.gz\n",
      "Downloading http://yann.lecun.com/exdb/mnist/t10k-images-idx3-ubyte.gz to data/MNIST/raw/t10k-images-idx3-ubyte.gz\n"
     ]
    },
    {
     "data": {
      "application/vnd.jupyter.widget-view+json": {
       "model_id": "f75b469342454a33b29ec363f4a561cb",
       "version_major": 2,
       "version_minor": 0
      },
      "text/plain": [
       "  0%|          | 0/1648877 [00:00<?, ?it/s]"
      ]
     },
     "metadata": {},
     "output_type": "display_data"
    },
    {
     "name": "stdout",
     "output_type": "stream",
     "text": [
      "Extracting data/MNIST/raw/t10k-images-idx3-ubyte.gz to data/MNIST/raw\n",
      "\n",
      "Downloading http://yann.lecun.com/exdb/mnist/t10k-labels-idx1-ubyte.gz\n",
      "Downloading http://yann.lecun.com/exdb/mnist/t10k-labels-idx1-ubyte.gz to data/MNIST/raw/t10k-labels-idx1-ubyte.gz\n"
     ]
    },
    {
     "data": {
      "application/vnd.jupyter.widget-view+json": {
       "model_id": "244e8ac5a66b424581f1421e8e393e9b",
       "version_major": 2,
       "version_minor": 0
      },
      "text/plain": [
       "  0%|          | 0/4542 [00:00<?, ?it/s]"
      ]
     },
     "metadata": {},
     "output_type": "display_data"
    },
    {
     "name": "stdout",
     "output_type": "stream",
     "text": [
      "Extracting data/MNIST/raw/t10k-labels-idx1-ubyte.gz to data/MNIST/raw\n",
      "\n"
     ]
    }
   ],
   "source": [
    "train_dataset = torchvision.datasets.MNIST(root='data',train = True,\n",
    "                                          transform = transforms.ToTensor(),\n",
    "                                          download = True)"
   ]
  },
  {
   "cell_type": "code",
   "execution_count": 7,
   "id": "f23ee1e4",
   "metadata": {},
   "outputs": [],
   "source": [
    "test_dataset = torchvision.datasets.MNIST(root='data',train=False,\n",
    "                                         transform = transforms.ToTensor(),\n",
    "                                         download = True)"
   ]
  },
  {
   "cell_type": "code",
   "execution_count": 8,
   "id": "ae000c96",
   "metadata": {},
   "outputs": [
    {
     "data": {
      "text/plain": [
       "Dataset MNIST\n",
       "    Number of datapoints: 60000\n",
       "    Root location: data\n",
       "    Split: Train\n",
       "    StandardTransform\n",
       "Transform: ToTensor()"
      ]
     },
     "execution_count": 8,
     "metadata": {},
     "output_type": "execute_result"
    }
   ],
   "source": [
    "train_dataset"
   ]
  },
  {
   "cell_type": "code",
   "execution_count": 9,
   "id": "660de801",
   "metadata": {},
   "outputs": [
    {
     "data": {
      "text/plain": [
       "Dataset MNIST\n",
       "    Number of datapoints: 10000\n",
       "    Root location: data\n",
       "    Split: Test\n",
       "    StandardTransform\n",
       "Transform: ToTensor()"
      ]
     },
     "execution_count": 9,
     "metadata": {},
     "output_type": "execute_result"
    }
   ],
   "source": [
    "test_dataset"
   ]
  },
  {
   "cell_type": "code",
   "execution_count": 10,
   "id": "fb8f419a",
   "metadata": {},
   "outputs": [],
   "source": [
    "train_loader = torch.utils.data.DataLoader(dataset = train_dataset,\n",
    "                                          batch_size = batch_size,\n",
    "                                          shuffle= True)"
   ]
  },
  {
   "cell_type": "code",
   "execution_count": 11,
   "id": "4de7f341",
   "metadata": {},
   "outputs": [],
   "source": [
    "test_loader = torch.utils.data.DataLoader(dataset = test_dataset,\n",
    "                                         batch_size = batch_size,\n",
    "                                         shuffle = False)"
   ]
  },
  {
   "cell_type": "code",
   "execution_count": 12,
   "id": "2b74bc2e",
   "metadata": {},
   "outputs": [],
   "source": [
    "examples = iter(train_loader)"
   ]
  },
  {
   "cell_type": "code",
   "execution_count": 14,
   "id": "32e33bd5",
   "metadata": {},
   "outputs": [],
   "source": [
    "samples ,labels = next(examples)"
   ]
  },
  {
   "cell_type": "code",
   "execution_count": 15,
   "id": "8abeefe2",
   "metadata": {},
   "outputs": [
    {
     "data": {
      "text/plain": [
       "torch.Size([100, 1, 28, 28])"
      ]
     },
     "execution_count": 15,
     "metadata": {},
     "output_type": "execute_result"
    }
   ],
   "source": [
    "samples.shape"
   ]
  },
  {
   "cell_type": "code",
   "execution_count": 16,
   "id": "0029a5fb",
   "metadata": {},
   "outputs": [
    {
     "data": {
      "text/plain": [
       "torch.Size([100])"
      ]
     },
     "execution_count": 16,
     "metadata": {},
     "output_type": "execute_result"
    }
   ],
   "source": [
    "labels.shape"
   ]
  },
  {
   "cell_type": "code",
   "execution_count": 17,
   "id": "9203629c",
   "metadata": {},
   "outputs": [
    {
     "data": {
      "image/png": "[encoded data removed]",
      "text/plain": [
       "<Figure size 432x288 with 6 Axes>"
      ]
     },
     "metadata": {},
     "output_type": "display_data"
    }
   ],
   "source": [
    "import matplotlib.pyplot as plt\n",
    "import seaborn as sns\n",
    "sns.set_style('whitegrid')\n",
    "for i in range(6):\n",
    "    plt.subplot(2,3,i+1)\n",
    "    plt.xticks([])\n",
    "    plt.yticks([])\n",
    "    plt.grid(False)\n",
    "    plt.imshow(samples[i][0],cmap='gray_r')\n",
    "plt.show()"
   ]
  },
  {
   "cell_type": "code",
   "execution_count": 18,
   "id": "d93012d7",
   "metadata": {},
   "outputs": [],
   "source": [
    "class NeuralNet(nn.Module):\n",
    "    def __init__(self,input_size,hidden_size,num_classes):\n",
    "        super(NeuralNet,self).__init__()\n",
    "        self.l1 = nn.Linear(input_size,hidden_size)\n",
    "        self.relu = nn.ReLU()\n",
    "        self.l2 = nn.Linear(hidden_size,num_classes)\n",
    "    def forward(self,x):\n",
    "        out = self.l1(x)\n",
    "        out = self.relu(out)\n",
    "        out = self.l2(out)\n",
    "        return out"
   ]
  },
  {
   "cell_type": "code",
   "execution_count": 19,
   "id": "9154b7b4",
   "metadata": {},
   "outputs": [],
   "source": [
    "model = NeuralNet(input_size,hidden_size,num_classes).to(device)"
   ]
  },
  {
   "cell_type": "code",
   "execution_count": 20,
   "id": "6c8191cb",
   "metadata": {},
   "outputs": [
    {
     "name": "stdout",
     "output_type": "stream",
     "text": [
      "NeuralNet(\n",
      "  (l1): Linear(in_features=784, out_features=100, bias=True)\n",
      "  (relu): ReLU()\n",
      "  (l2): Linear(in_features=100, out_features=10, bias=True)\n",
      ")\n"
     ]
    }
   ],
   "source": [
    "print(model)"
   ]
  },
  {
   "cell_type": "code",
   "execution_count": 21,
   "id": "cb12f351",
   "metadata": {},
   "outputs": [],
   "source": [
    "#Loss Function & Optimizer\n",
    "criterion = nn.CrossEntropyLoss()\n",
    "optimizer = torch.optim.Adam(model.parameters(),lr=learning_rate)"
   ]
  },
  {
   "cell_type": "code",
   "execution_count": 22,
   "id": "f93efb65",
   "metadata": {},
   "outputs": [
    {
     "name": "stdout",
     "output_type": "stream",
     "text": [
      "epoch 1/20, step 100/600,loss = 0.3723\n",
      "epoch 1/20, step 200/600,loss = 0.3631\n",
      "epoch 1/20, step 300/600,loss = 0.2412\n",
      "epoch 1/20, step 400/600,loss = 0.2690\n",
      "epoch 1/20, step 500/600,loss = 0.3637\n",
      "epoch 1/20, step 600/600,loss = 0.2481\n",
      "epoch 2/20, step 100/600,loss = 0.1880\n",
      "epoch 2/20, step 200/600,loss = 0.1706\n",
      "epoch 2/20, step 300/600,loss = 0.3415\n",
      "epoch 2/20, step 400/600,loss = 0.1735\n",
      "epoch 2/20, step 500/600,loss = 0.2374\n",
      "epoch 2/20, step 600/600,loss = 0.1257\n",
      "epoch 3/20, step 100/600,loss = 0.1302\n",
      "epoch 3/20, step 200/600,loss = 0.1007\n",
      "epoch 3/20, step 300/600,loss = 0.1530\n",
      "epoch 3/20, step 400/600,loss = 0.2604\n",
      "epoch 3/20, step 500/600,loss = 0.0420\n",
      "epoch 3/20, step 600/600,loss = 0.1203\n",
      "epoch 4/20, step 100/600,loss = 0.0781\n",
      "epoch 4/20, step 200/600,loss = 0.1049\n",
      "epoch 4/20, step 300/600,loss = 0.1207\n",
      "epoch 4/20, step 400/600,loss = 0.1537\n",
      "epoch 4/20, step 500/600,loss = 0.0576\n",
      "epoch 4/20, step 600/600,loss = 0.0787\n",
      "epoch 5/20, step 100/600,loss = 0.1416\n",
      "epoch 5/20, step 200/600,loss = 0.1120\n",
      "epoch 5/20, step 300/600,loss = 0.1277\n",
      "epoch 5/20, step 400/600,loss = 0.1069\n",
      "epoch 5/20, step 500/600,loss = 0.1215\n",
      "epoch 5/20, step 600/600,loss = 0.0446\n",
      "epoch 6/20, step 100/600,loss = 0.1365\n",
      "epoch 6/20, step 200/600,loss = 0.0767\n",
      "epoch 6/20, step 300/600,loss = 0.2917\n",
      "epoch 6/20, step 400/600,loss = 0.0637\n",
      "epoch 6/20, step 500/600,loss = 0.1042\n",
      "epoch 6/20, step 600/600,loss = 0.0418\n",
      "epoch 7/20, step 100/600,loss = 0.0464\n",
      "epoch 7/20, step 200/600,loss = 0.0637\n",
      "epoch 7/20, step 300/600,loss = 0.0717\n",
      "epoch 7/20, step 400/600,loss = 0.0537\n",
      "epoch 7/20, step 500/600,loss = 0.0610\n",
      "epoch 7/20, step 600/600,loss = 0.0660\n",
      "epoch 8/20, step 100/600,loss = 0.0233\n",
      "epoch 8/20, step 200/600,loss = 0.0220\n",
      "epoch 8/20, step 300/600,loss = 0.0660\n",
      "epoch 8/20, step 400/600,loss = 0.0190\n",
      "epoch 8/20, step 500/600,loss = 0.0392\n",
      "epoch 8/20, step 600/600,loss = 0.0566\n",
      "epoch 9/20, step 100/600,loss = 0.0528\n",
      "epoch 9/20, step 200/600,loss = 0.0553\n",
      "epoch 9/20, step 300/600,loss = 0.0345\n",
      "epoch 9/20, step 400/600,loss = 0.0341\n",
      "epoch 9/20, step 500/600,loss = 0.0544\n",
      "epoch 9/20, step 600/600,loss = 0.0622\n",
      "epoch 10/20, step 100/600,loss = 0.0314\n",
      "epoch 10/20, step 200/600,loss = 0.0324\n",
      "epoch 10/20, step 300/600,loss = 0.0227\n",
      "epoch 10/20, step 400/600,loss = 0.0592\n",
      "epoch 10/20, step 500/600,loss = 0.0305\n",
      "epoch 10/20, step 600/600,loss = 0.0413\n",
      "epoch 11/20, step 100/600,loss = 0.0095\n",
      "epoch 11/20, step 200/600,loss = 0.0286\n",
      "epoch 11/20, step 300/600,loss = 0.0519\n",
      "epoch 11/20, step 400/600,loss = 0.0218\n",
      "epoch 11/20, step 500/600,loss = 0.0143\n",
      "epoch 11/20, step 600/600,loss = 0.0628\n",
      "epoch 12/20, step 100/600,loss = 0.0132\n",
      "epoch 12/20, step 200/600,loss = 0.0190\n",
      "epoch 12/20, step 300/600,loss = 0.0287\n",
      "epoch 12/20, step 400/600,loss = 0.0269\n",
      "epoch 12/20, step 500/600,loss = 0.0756\n",
      "epoch 12/20, step 600/600,loss = 0.0165\n",
      "epoch 13/20, step 100/600,loss = 0.0078\n",
      "epoch 13/20, step 200/600,loss = 0.0645\n",
      "epoch 13/20, step 300/600,loss = 0.0068\n",
      "epoch 13/20, step 400/600,loss = 0.0262\n",
      "epoch 13/20, step 500/600,loss = 0.0182\n",
      "epoch 13/20, step 600/600,loss = 0.0181\n",
      "epoch 14/20, step 100/600,loss = 0.0162\n",
      "epoch 14/20, step 200/600,loss = 0.0270\n",
      "epoch 14/20, step 300/600,loss = 0.0075\n",
      "epoch 14/20, step 400/600,loss = 0.0218\n",
      "epoch 14/20, step 500/600,loss = 0.0456\n",
      "epoch 14/20, step 600/600,loss = 0.0176\n",
      "epoch 15/20, step 100/600,loss = 0.0162\n",
      "epoch 15/20, step 200/600,loss = 0.0126\n",
      "epoch 15/20, step 300/600,loss = 0.0101\n",
      "epoch 15/20, step 400/600,loss = 0.0027\n",
      "epoch 15/20, step 500/600,loss = 0.0359\n",
      "epoch 15/20, step 600/600,loss = 0.0110\n",
      "epoch 16/20, step 100/600,loss = 0.0117\n",
      "epoch 16/20, step 200/600,loss = 0.0322\n",
      "epoch 16/20, step 300/600,loss = 0.0231\n",
      "epoch 16/20, step 400/600,loss = 0.0284\n",
      "epoch 16/20, step 500/600,loss = 0.0517\n",
      "epoch 16/20, step 600/600,loss = 0.0229\n",
      "epoch 17/20, step 100/600,loss = 0.0067\n",
      "epoch 17/20, step 200/600,loss = 0.0242\n",
      "epoch 17/20, step 300/600,loss = 0.0153\n",
      "epoch 17/20, step 400/600,loss = 0.0118\n",
      "epoch 17/20, step 500/600,loss = 0.0035\n",
      "epoch 17/20, step 600/600,loss = 0.0080\n",
      "epoch 18/20, step 100/600,loss = 0.0167\n",
      "epoch 18/20, step 200/600,loss = 0.0043\n",
      "epoch 18/20, step 300/600,loss = 0.0165\n",
      "epoch 18/20, step 400/600,loss = 0.0138\n",
      "epoch 18/20, step 500/600,loss = 0.0140\n",
      "epoch 18/20, step 600/600,loss = 0.0109\n",
      "epoch 19/20, step 100/600,loss = 0.0020\n",
      "epoch 19/20, step 200/600,loss = 0.0154\n",
      "epoch 19/20, step 300/600,loss = 0.0046\n",
      "epoch 19/20, step 400/600,loss = 0.0104\n",
      "epoch 19/20, step 500/600,loss = 0.0100\n",
      "epoch 19/20, step 600/600,loss = 0.0095\n",
      "epoch 20/20, step 100/600,loss = 0.0084\n",
      "epoch 20/20, step 200/600,loss = 0.0059\n",
      "epoch 20/20, step 300/600,loss = 0.0080\n",
      "epoch 20/20, step 400/600,loss = 0.0118\n",
      "epoch 20/20, step 500/600,loss = 0.0065\n",
      "epoch 20/20, step 600/600,loss = 0.0061\n"
     ]
    }
   ],
   "source": [
    "#training loop\n",
    "n_total_steps = len(train_loader)\n",
    "for epoch in range(num_epochs):\n",
    "    for i, (images,labels) in enumerate(train_loader):\n",
    "        images = images.reshape(-1,28*28).to(device)\n",
    "        labels = labels.to(device)\n",
    "        #forward pass\n",
    "        outputs = model(images)\n",
    "        loss = criterion(outputs,labels)\n",
    "        #backward pass\n",
    "        optimizer.zero_grad()\n",
    "        loss.backward()\n",
    "        optimizer.step()\n",
    "        if (i+1) % 100 == 0:\n",
    "            print(f'epoch {epoch+1}/{num_epochs}, step {i+1}/{n_total_steps},loss = {loss.item():.4f}')"
   ]
  },
  {
   "cell_type": "code",
   "execution_count": 23,
   "id": "35323984",
   "metadata": {},
   "outputs": [],
   "source": [
    "# Testing"
   ]
  },
  {
   "cell_type": "code",
   "execution_count": 24,
   "id": "b2fd2cda",
   "metadata": {},
   "outputs": [
    {
     "name": "stdout",
     "output_type": "stream",
     "text": [
      "accuracy = 97.0\n"
     ]
    }
   ],
   "source": [
    "with torch.no_grad():\n",
    "    n_correct = 0\n",
    "    n_samples = 0\n",
    "    for images, labels in test_loader:\n",
    "        images = images.reshape(-1,28*28).to(device)\n",
    "        labels = labels.to(device)\n",
    "        outputs = model(images)\n",
    "    _, predictions = torch.max(outputs,1)\n",
    "    n_samples += labels.shape[0]\n",
    "    n_correct += (predictions ==  labels).sum().item()\n",
    "    acc = 100.0 * n_correct/n_samples\n",
    "    print(f\"accuracy = {acc}\")"
   ]
  },
  {
   "cell_type": "code",
   "execution_count": 25,
   "id": "9600f956",
   "metadata": {},
   "outputs": [
    {
     "data": {
      "text/plain": [
       "100"
      ]
     },
     "execution_count": 25,
     "metadata": {},
     "output_type": "execute_result"
    }
   ],
   "source": [
    "n_samples"
   ]
  },
  {
   "cell_type": "code",
   "execution_count": 26,
   "id": "bd8e26b6",
   "metadata": {},
   "outputs": [
    {
     "data": {
      "text/plain": [
       "97"
      ]
     },
     "execution_count": 26,
     "metadata": {},
     "output_type": "execute_result"
    }
   ],
   "source": [
    "n_correct"
   ]
  },
  {
   "cell_type": "code",
   "execution_count": null,
   "id": "0b3f64be",
   "metadata": {},
   "outputs": [],
   "source": []
  }
 ],
 "metadata": {
  "kernelspec": {
   "display_name": "Python 3 (ipykernel)",
   "language": "python",
   "name": "python3"
  },
  "language_info": {
   "codemirror_mode": {
    "name": "ipython",
    "version": 3
   },
   "file_extension": ".py",
   "mimetype": "text/x-python",
   "name": "python",
   "nbconvert_exporter": "python",
   "pygments_lexer": "ipython3",
   "version": "3.9.7"
  }
 },
 "nbformat": 4,
 "nbformat_minor": 5
}

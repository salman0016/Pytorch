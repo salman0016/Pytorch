{
 "cells": [
  {
   "cell_type": "code",
   "execution_count": 1,
   "id": "ca2749de",
   "metadata": {},
   "outputs": [
    {
     "name": "stdout",
     "output_type": "stream",
     "text": [
      "Requirement already satisfied: tensorboard in /home/salman/anaconda3/lib/python3.9/site-packages (2.12.0)\n",
      "Requirement already satisfied: absl-py>=0.4 in /home/salman/anaconda3/lib/python3.9/site-packages (from tensorboard) (1.4.0)\n",
      "Requirement already satisfied: tensorboard-plugin-wit>=1.6.0 in /home/salman/anaconda3/lib/python3.9/site-packages (from tensorboard) (1.8.1)\n",
      "Requirement already satisfied: werkzeug>=1.0.1 in /home/salman/anaconda3/lib/python3.9/site-packages (from tensorboard) (2.0.2)\n",
      "Requirement already satisfied: wheel>=0.26 in /home/salman/anaconda3/lib/python3.9/site-packages (from tensorboard) (0.37.0)\n",
      "Requirement already satisfied: requests<3,>=2.21.0 in /home/salman/anaconda3/lib/python3.9/site-packages (from tensorboard) (2.26.0)\n",
      "Requirement already satisfied: grpcio>=1.48.2 in /home/salman/anaconda3/lib/python3.9/site-packages (from tensorboard) (1.51.3)\n",
      "Requirement already satisfied: numpy>=1.12.0 in /home/salman/anaconda3/lib/python3.9/site-packages (from tensorboard) (1.20.3)\n",
      "Requirement already satisfied: protobuf>=3.19.6 in /home/salman/anaconda3/lib/python3.9/site-packages (from tensorboard) (4.22.0)\n",
      "Requirement already satisfied: setuptools>=41.0.0 in /home/salman/anaconda3/lib/python3.9/site-packages (from tensorboard) (58.0.4)\n",
      "Requirement already satisfied: google-auth<3,>=1.6.3 in /home/salman/anaconda3/lib/python3.9/site-packages (from tensorboard) (2.16.1)\n",
      "Requirement already satisfied: google-auth-oauthlib<0.5,>=0.4.1 in /home/salman/anaconda3/lib/python3.9/site-packages (from tensorboard) (0.4.6)\n",
      "Requirement already satisfied: tensorboard-data-server<0.8.0,>=0.7.0 in /home/salman/anaconda3/lib/python3.9/site-packages (from tensorboard) (0.7.0)\n",
      "Requirement already satisfied: markdown>=2.6.8 in /home/salman/anaconda3/lib/python3.9/site-packages (from tensorboard) (3.4.1)\n",
      "Requirement already satisfied: pyasn1-modules>=0.2.1 in /home/salman/anaconda3/lib/python3.9/site-packages (from google-auth<3,>=1.6.3->tensorboard) (0.2.8)\n",
      "Requirement already satisfied: rsa<5,>=3.1.4 in /home/salman/anaconda3/lib/python3.9/site-packages (from google-auth<3,>=1.6.3->tensorboard) (4.9)\n",
      "Requirement already satisfied: cachetools<6.0,>=2.0.0 in /home/salman/anaconda3/lib/python3.9/site-packages (from google-auth<3,>=1.6.3->tensorboard) (5.3.0)\n",
      "Requirement already satisfied: six>=1.9.0 in /home/salman/anaconda3/lib/python3.9/site-packages (from google-auth<3,>=1.6.3->tensorboard) (1.16.0)\n",
      "Requirement already satisfied: requests-oauthlib>=0.7.0 in /home/salman/anaconda3/lib/python3.9/site-packages (from google-auth-oauthlib<0.5,>=0.4.1->tensorboard) (1.3.1)\n",
      "Requirement already satisfied: importlib-metadata>=4.4 in /home/salman/anaconda3/lib/python3.9/site-packages (from markdown>=2.6.8->tensorboard) (4.8.1)\n",
      "Requirement already satisfied: zipp>=0.5 in /home/salman/anaconda3/lib/python3.9/site-packages (from importlib-metadata>=4.4->markdown>=2.6.8->tensorboard) (3.6.0)\n",
      "Requirement already satisfied: pyasn1<0.5.0,>=0.4.6 in /home/salman/anaconda3/lib/python3.9/site-packages (from pyasn1-modules>=0.2.1->google-auth<3,>=1.6.3->tensorboard) (0.4.8)\n",
      "Requirement already satisfied: certifi>=2017.4.17 in /home/salman/anaconda3/lib/python3.9/site-packages (from requests<3,>=2.21.0->tensorboard) (2021.10.8)\n",
      "Requirement already satisfied: idna<4,>=2.5 in /home/salman/anaconda3/lib/python3.9/site-packages (from requests<3,>=2.21.0->tensorboard) (3.2)\n",
      "Requirement already satisfied: charset-normalizer~=2.0.0 in /home/salman/anaconda3/lib/python3.9/site-packages (from requests<3,>=2.21.0->tensorboard) (2.0.4)\n",
      "Requirement already satisfied: urllib3<1.27,>=1.21.1 in /home/salman/anaconda3/lib/python3.9/site-packages (from requests<3,>=2.21.0->tensorboard) (1.26.7)\n",
      "Requirement already satisfied: oauthlib>=3.0.0 in /home/salman/anaconda3/lib/python3.9/site-packages (from requests-oauthlib>=0.7.0->google-auth-oauthlib<0.5,>=0.4.1->tensorboard) (3.2.2)\n"
     ]
    }
   ],
   "source": [
    "!pip install tensorboard"
   ]
  },
  {
   "cell_type": "code",
   "execution_count": 2,
   "id": "9bd48367",
   "metadata": {},
   "outputs": [],
   "source": [
    "import torch\n",
    "import torch.nn as nn\n",
    "import torchvision\n",
    "import torchvision.transforms as transforms\n",
    "import matplotlib.pyplot as plt\n",
    "import sys\n",
    "import torch.nn.functional as F\n",
    "from torch.utils.tensorboard import SummaryWriter"
   ]
  },
  {
   "cell_type": "code",
   "execution_count": 3,
   "id": "cda85bde",
   "metadata": {},
   "outputs": [],
   "source": [
    "writer = SummaryWriter('runs/mnist1')"
   ]
  },
  {
   "cell_type": "code",
   "execution_count": 4,
   "id": "7a82296a",
   "metadata": {},
   "outputs": [],
   "source": [
    "device = torch.device('cuda' if torch.cuda.is_available() else 'cpu')"
   ]
  },
  {
   "cell_type": "code",
   "execution_count": 5,
   "id": "108843e9",
   "metadata": {},
   "outputs": [],
   "source": [
    "input_size = 784\n",
    "hidden_size = 500\n",
    "num_classes = 10\n",
    "num_epochs = 10\n",
    "batch_size = 64\n",
    "learning_rate = 0.1"
   ]
  },
  {
   "cell_type": "code",
   "execution_count": 6,
   "id": "7386909c",
   "metadata": {},
   "outputs": [],
   "source": [
    "train_dataset = torchvision.datasets.MNIST(root='data',\n",
    "                                          train = True,\n",
    "                                          transform = transforms.ToTensor(),\n",
    "                                          download=True)\n",
    "test_dataset = torchvision.datasets.MNIST(root='data',\n",
    "                                          train = False,\n",
    "                                          transform = transforms.ToTensor(),\n",
    "                                          download=True)"
   ]
  },
  {
   "cell_type": "code",
   "execution_count": 7,
   "id": "2fe3be43",
   "metadata": {},
   "outputs": [
    {
     "data": {
      "text/plain": [
       "Dataset MNIST\n",
       "    Number of datapoints: 60000\n",
       "    Root location: data\n",
       "    Split: Train\n",
       "    StandardTransform\n",
       "Transform: ToTensor()"
      ]
     },
     "execution_count": 7,
     "metadata": {},
     "output_type": "execute_result"
    }
   ],
   "source": [
    "train_dataset"
   ]
  },
  {
   "cell_type": "code",
   "execution_count": 8,
   "id": "40091325",
   "metadata": {},
   "outputs": [
    {
     "data": {
      "text/plain": [
       "Dataset MNIST\n",
       "    Number of datapoints: 10000\n",
       "    Root location: data\n",
       "    Split: Test\n",
       "    StandardTransform\n",
       "Transform: ToTensor()"
      ]
     },
     "execution_count": 8,
     "metadata": {},
     "output_type": "execute_result"
    }
   ],
   "source": [
    "test_dataset"
   ]
  },
  {
   "cell_type": "code",
   "execution_count": 9,
   "id": "1ea4ee1a",
   "metadata": {},
   "outputs": [],
   "source": [
    "train_loader = torch.utils.data.DataLoader(dataset = train_dataset,\n",
    "                                          batch_size = batch_size,\n",
    "                                          shuffle = True)\n",
    "test_loader = torch.utils.data.DataLoader(dataset= test_dataset,\n",
    "                                         batch_size = batch_size,\n",
    "                                         shuffle = False)\n"
   ]
  },
  {
   "cell_type": "code",
   "execution_count": 10,
   "id": "4c70ee7d",
   "metadata": {},
   "outputs": [],
   "source": [
    "examples = iter(test_loader)\n",
    "example_data,example_targets = next(examples)"
   ]
  },
  {
   "cell_type": "code",
   "execution_count": 11,
   "id": "03439114",
   "metadata": {},
   "outputs": [
    {
     "data": {
      "text/plain": [
       "torch.Size([64, 1, 28, 28])"
      ]
     },
     "execution_count": 11,
     "metadata": {},
     "output_type": "execute_result"
    }
   ],
   "source": [
    "example_data.shape"
   ]
  },
  {
   "cell_type": "code",
   "execution_count": 12,
   "id": "df6b4dc5",
   "metadata": {},
   "outputs": [
    {
     "data": {
      "text/plain": [
       "tensor([7, 2, 1, 0, 4, 1, 4, 9, 5, 9, 0, 6, 9, 0, 1, 5, 9, 7, 3, 4, 9, 6, 6, 5,\n",
       "        4, 0, 7, 4, 0, 1, 3, 1, 3, 4, 7, 2, 7, 1, 2, 1, 1, 7, 4, 2, 3, 5, 1, 2,\n",
       "        4, 4, 6, 3, 5, 5, 6, 0, 4, 1, 9, 5, 7, 8, 9, 3])"
      ]
     },
     "execution_count": 12,
     "metadata": {},
     "output_type": "execute_result"
    }
   ],
   "source": [
    "example_targets"
   ]
  },
  {
   "cell_type": "code",
   "execution_count": 13,
   "id": "16e1344e",
   "metadata": {},
   "outputs": [
    {
     "data": {
      "image/png": "[encoded data removed]",
      "text/plain": [
       "<Figure size 432x288 with 6 Axes>"
      ]
     },
     "metadata": {
      "needs_background": "light"
     },
     "output_type": "display_data"
    }
   ],
   "source": [
    "for i in range(6):\n",
    "    plt.subplot(2,3,i+1)\n",
    "    plt.imshow(example_data[i][0],cmap='gray_r')\n",
    "plt.show()"
   ]
  },
  {
   "cell_type": "code",
   "execution_count": 14,
   "id": "b7188ac1",
   "metadata": {},
   "outputs": [],
   "source": [
    "img_grid = torchvision.utils.make_grid(example_data)"
   ]
  },
  {
   "cell_type": "code",
   "execution_count": 15,
   "id": "8ac01dea",
   "metadata": {},
   "outputs": [],
   "source": [
    "writer.add_image('mnist_images',img_grid)"
   ]
  },
  {
   "cell_type": "code",
   "execution_count": 16,
   "id": "18837ec0",
   "metadata": {},
   "outputs": [
    {
     "ename": "SystemExit",
     "evalue": "",
     "output_type": "error",
     "traceback": [
      "An exception has occurred, use %tb to see the full traceback.\n",
      "\u001b[0;31mSystemExit\u001b[0m\n"
     ]
    },
    {
     "name": "stderr",
     "output_type": "stream",
     "text": [
      "/home/salman/anaconda3/lib/python3.9/site-packages/IPython/core/interactiveshell.py:3452: UserWarning: To exit: use 'exit', 'quit', or Ctrl-D.\n",
      "  warn(\"To exit: use 'exit', 'quit', or Ctrl-D.\", stacklevel=1)\n"
     ]
    }
   ],
   "source": [
    "writer.close()\n",
    "sys.exit()"
   ]
  },
  {
   "cell_type": "code",
   "execution_count": 17,
   "id": "529e3cc9",
   "metadata": {},
   "outputs": [],
   "source": [
    "class NeuralNet(nn.Module):\n",
    "    def __init__(self,input_size,hidden_size,num_classes):\n",
    "        super(NeuralNet,self).__init__()\n",
    "        self.input_size = input_size\n",
    "        self.l1 = nn.Linear(input_size,hidden_size)\n",
    "        self.relu = nn.ReLU()\n",
    "        self.l2 = nn.Linear(hidden_size,num_classes)\n",
    "    def forward(self,x):\n",
    "        out = self.l1(x)\n",
    "        out = self.relu(out)\n",
    "        out = self.l2(out)\n",
    "        return out"
   ]
  },
  {
   "cell_type": "code",
   "execution_count": 18,
   "id": "525a90c0",
   "metadata": {},
   "outputs": [],
   "source": [
    "model = NeuralNet(input_size,hidden_size,num_classes).to(device)"
   ]
  },
  {
   "cell_type": "code",
   "execution_count": 19,
   "id": "0245ba3d",
   "metadata": {},
   "outputs": [],
   "source": [
    "criterion = nn.CrossEntropyLoss()\n",
    "optimizer = torch.optim.Adam(model.parameters(),lr=learning_rate)\n",
    "example_data = example_data.to(device)\n",
    "writer.add_graph(model,example_data.reshape(-1,28*28))"
   ]
  },
  {
   "cell_type": "code",
   "execution_count": 20,
   "id": "203eaf09",
   "metadata": {},
   "outputs": [],
   "source": [
    "running_loss = 0.0\n",
    "running_corect = 0\n",
    "n_total_steps = len(test_loader)"
   ]
  },
  {
   "cell_type": "code",
   "execution_count": 22,
   "id": "57eaf5c7",
   "metadata": {},
   "outputs": [
    {
     "name": "stdout",
     "output_type": "stream",
     "text": [
      "epoch[1/10],step[100/157],Loss:2.3207\n",
      "epoch[1/10],step[200/157],Loss:2.3054\n",
      "epoch[1/10],step[300/157],Loss:2.2997\n",
      "epoch[1/10],step[400/157],Loss:2.3054\n",
      "epoch[1/10],step[500/157],Loss:2.3044\n",
      "epoch[1/10],step[600/157],Loss:2.2931\n",
      "epoch[1/10],step[700/157],Loss:2.3163\n",
      "epoch[1/10],step[800/157],Loss:2.3124\n",
      "epoch[1/10],step[900/157],Loss:2.3150\n",
      "epoch[2/10],step[100/157],Loss:2.3230\n",
      "epoch[2/10],step[200/157],Loss:2.3035\n",
      "epoch[2/10],step[300/157],Loss:2.3083\n",
      "epoch[2/10],step[400/157],Loss:2.3003\n",
      "epoch[2/10],step[500/157],Loss:2.3062\n",
      "epoch[2/10],step[600/157],Loss:2.3124\n",
      "epoch[2/10],step[700/157],Loss:2.3079\n",
      "epoch[2/10],step[800/157],Loss:2.3045\n",
      "epoch[2/10],step[900/157],Loss:2.3262\n",
      "epoch[3/10],step[100/157],Loss:2.3104\n",
      "epoch[3/10],step[200/157],Loss:2.3015\n",
      "epoch[3/10],step[300/157],Loss:2.3194\n",
      "epoch[3/10],step[400/157],Loss:2.3195\n",
      "epoch[3/10],step[500/157],Loss:2.2966\n",
      "epoch[3/10],step[600/157],Loss:2.3008\n",
      "epoch[3/10],step[700/157],Loss:2.3070\n",
      "epoch[3/10],step[800/157],Loss:2.3090\n",
      "epoch[3/10],step[900/157],Loss:2.3199\n",
      "epoch[4/10],step[100/157],Loss:2.3113\n",
      "epoch[4/10],step[200/157],Loss:2.3000\n",
      "epoch[4/10],step[300/157],Loss:2.3165\n",
      "epoch[4/10],step[400/157],Loss:2.3219\n",
      "epoch[4/10],step[500/157],Loss:2.3168\n",
      "epoch[4/10],step[600/157],Loss:2.2888\n",
      "epoch[4/10],step[700/157],Loss:2.3288\n",
      "epoch[4/10],step[800/157],Loss:2.3031\n",
      "epoch[4/10],step[900/157],Loss:2.3428\n",
      "epoch[5/10],step[100/157],Loss:2.3188\n",
      "epoch[5/10],step[200/157],Loss:2.3110\n",
      "epoch[5/10],step[300/157],Loss:2.3202\n",
      "epoch[5/10],step[400/157],Loss:2.3101\n",
      "epoch[5/10],step[500/157],Loss:2.3016\n",
      "epoch[5/10],step[600/157],Loss:2.2996\n",
      "epoch[5/10],step[700/157],Loss:2.3069\n",
      "epoch[5/10],step[800/157],Loss:2.3223\n",
      "epoch[5/10],step[900/157],Loss:2.3054\n",
      "epoch[6/10],step[100/157],Loss:2.3162\n",
      "epoch[6/10],step[200/157],Loss:2.2804\n",
      "epoch[6/10],step[300/157],Loss:2.3166\n",
      "epoch[6/10],step[400/157],Loss:2.3187\n",
      "epoch[6/10],step[500/157],Loss:2.2977\n",
      "epoch[6/10],step[600/157],Loss:2.3024\n",
      "epoch[6/10],step[700/157],Loss:2.3021\n",
      "epoch[6/10],step[800/157],Loss:2.3075\n",
      "epoch[6/10],step[900/157],Loss:2.3060\n",
      "epoch[7/10],step[100/157],Loss:2.3168\n",
      "epoch[7/10],step[200/157],Loss:2.3361\n",
      "epoch[7/10],step[300/157],Loss:2.3148\n",
      "epoch[7/10],step[400/157],Loss:2.3139\n",
      "epoch[7/10],step[500/157],Loss:2.3294\n",
      "epoch[7/10],step[600/157],Loss:2.3017\n",
      "epoch[7/10],step[700/157],Loss:2.3058\n",
      "epoch[7/10],step[800/157],Loss:2.3088\n",
      "epoch[7/10],step[900/157],Loss:2.2873\n",
      "epoch[8/10],step[100/157],Loss:2.3014\n",
      "epoch[8/10],step[200/157],Loss:2.3072\n",
      "epoch[8/10],step[300/157],Loss:2.3124\n",
      "epoch[8/10],step[400/157],Loss:2.3090\n",
      "epoch[8/10],step[500/157],Loss:2.3040\n",
      "epoch[8/10],step[600/157],Loss:2.3036\n",
      "epoch[8/10],step[700/157],Loss:2.3073\n",
      "epoch[8/10],step[800/157],Loss:2.3097\n",
      "epoch[8/10],step[900/157],Loss:2.2844\n",
      "epoch[9/10],step[100/157],Loss:2.3129\n",
      "epoch[9/10],step[200/157],Loss:2.2994\n",
      "epoch[9/10],step[300/157],Loss:2.3223\n",
      "epoch[9/10],step[400/157],Loss:2.3071\n",
      "epoch[9/10],step[500/157],Loss:2.3094\n",
      "epoch[9/10],step[600/157],Loss:2.3243\n",
      "epoch[9/10],step[700/157],Loss:2.2947\n",
      "epoch[9/10],step[800/157],Loss:2.3095\n",
      "epoch[9/10],step[900/157],Loss:2.3097\n",
      "epoch[10/10],step[100/157],Loss:2.2919\n",
      "epoch[10/10],step[200/157],Loss:2.2981\n",
      "epoch[10/10],step[300/157],Loss:2.3253\n",
      "epoch[10/10],step[400/157],Loss:2.3103\n",
      "epoch[10/10],step[500/157],Loss:2.3202\n",
      "epoch[10/10],step[600/157],Loss:2.3171\n",
      "epoch[10/10],step[700/157],Loss:2.3010\n",
      "epoch[10/10],step[800/157],Loss:2.3075\n",
      "epoch[10/10],step[900/157],Loss:2.3151\n"
     ]
    }
   ],
   "source": [
    "for epoch in range(num_epochs):\n",
    "    for i,(image,labels) in enumerate(train_loader):\n",
    "        image = image.reshape(-1,28*28).to(device)\n",
    "        labels = labels.to(device)\n",
    "        outputs = model(image)\n",
    "        loss = criterion(outputs,labels)\n",
    "        optimizer.zero_grad()\n",
    "        running_loss += loss.item()\n",
    "        _,predicted = torch.max(outputs.data ,1)\n",
    "        running_corect += (predicted==labels).sum().item()\n",
    "        if (i+1) % 100 == 0:\n",
    "            print(f'epoch[{epoch+1}/{num_epochs}],step[{i+1}/{n_total_steps}],Loss:{loss.item():.4f}')\n",
    "            writer.add_scalar('training loss',running_loss/100,epoch*n_total_steps+i)\n",
    "            running_accuracy = running_corect/100/predicted.size(0)\n",
    "            writer.add_scalar('accuracy', running_accuracy, epoch * n_total_steps + i)\n",
    "            running_correct = 0\n",
    "            running_loss = 0.0"
   ]
  },
  {
   "cell_type": "code",
   "execution_count": null,
   "id": "927c088e",
   "metadata": {},
   "outputs": [],
   "source": [
    "!tensorboard --logdir runs/mnist1"
   ]
  },
  {
   "cell_type": "code",
   "execution_count": null,
   "id": "2db9002f",
   "metadata": {},
   "outputs": [],
   "source": []
  }
 ],
 "metadata": {
  "kernelspec": {
   "display_name": "Python 3 (ipykernel)",
   "language": "python",
   "name": "python3"
  },
  "language_info": {
   "codemirror_mode": {
    "name": "ipython",
    "version": 3
   },
   "file_extension": ".py",
   "mimetype": "text/x-python",
   "name": "python",
   "nbconvert_exporter": "python",
   "pygments_lexer": "ipython3",
   "version": "3.9.7"
  }
 },
 "nbformat": 4,
 "nbformat_minor": 5
}

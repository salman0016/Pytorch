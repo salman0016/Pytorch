{
 "cells": [
  {
   "cell_type": "code",
   "execution_count": 1,
   "id": "61f564d6",
   "metadata": {},
   "outputs": [],
   "source": [
    "import torch\n",
    "import torch.nn as nn\n",
    "import torch.nn.functional as F\n",
    "import torchvision\n",
    "import torchvision.transforms as transforms\n",
    "import matplotlib.pyplot as plt\n",
    "import numpy as np"
   ]
  },
  {
   "cell_type": "code",
   "execution_count": 2,
   "id": "51448b94",
   "metadata": {},
   "outputs": [],
   "source": [
    "device = torch.device('cuda' if torch.cuda.is_available() else 'cpu')"
   ]
  },
  {
   "cell_type": "code",
   "execution_count": 3,
   "id": "d8499fdc",
   "metadata": {},
   "outputs": [
    {
     "data": {
      "text/plain": [
       "device(type='cpu')"
      ]
     },
     "execution_count": 3,
     "metadata": {},
     "output_type": "execute_result"
    }
   ],
   "source": [
    "device"
   ]
  },
  {
   "cell_type": "code",
   "execution_count": 4,
   "id": "40e6b923",
   "metadata": {},
   "outputs": [],
   "source": [
    "#Hyperparameters\n",
    "num_epochs = 10\n",
    "batch_size = 4\n",
    "learning_rate = 0.01"
   ]
  },
  {
   "cell_type": "code",
   "execution_count": 5,
   "id": "840f6ec0",
   "metadata": {},
   "outputs": [],
   "source": [
    "transform = transforms.Compose(\n",
    "[transforms.ToTensor(),\n",
    "transforms.Normalize((0.5,0.5,0.5),(0.5,0.5,0.5))])"
   ]
  },
  {
   "cell_type": "code",
   "execution_count": 6,
   "id": "97bb1762",
   "metadata": {},
   "outputs": [
    {
     "name": "stdout",
     "output_type": "stream",
     "text": [
      "Downloading https://www.cs.toronto.edu/~kriz/cifar-10-python.tar.gz to data/cifar-10-python.tar.gz\n"
     ]
    },
    {
     "data": {
      "application/vnd.jupyter.widget-view+json": {
       "model_id": "20108271226f4783956edb5361c10b3e",
       "version_major": 2,
       "version_minor": 0
      },
      "text/plain": [
       "  0%|          | 0/170498071 [00:00<?, ?it/s]"
      ]
     },
     "metadata": {},
     "output_type": "display_data"
    },
    {
     "name": "stdout",
     "output_type": "stream",
     "text": [
      "Extracting data/cifar-10-python.tar.gz to data\n"
     ]
    }
   ],
   "source": [
    "train_dataset = torchvision.datasets.CIFAR10(root='data',\n",
    "                                            train=True,\n",
    "                                            download=True,\n",
    "                                            transform=transform)"
   ]
  },
  {
   "cell_type": "code",
   "execution_count": 7,
   "id": "d4593e32",
   "metadata": {},
   "outputs": [
    {
     "name": "stdout",
     "output_type": "stream",
     "text": [
      "Files already downloaded and verified\n"
     ]
    }
   ],
   "source": [
    "test_dataset = torchvision.datasets.CIFAR10(root='data',\n",
    "                                            train=False,\n",
    "                                            download=True,\n",
    "                                            transform=transform)"
   ]
  },
  {
   "cell_type": "code",
   "execution_count": 8,
   "id": "f0e6c508",
   "metadata": {},
   "outputs": [
    {
     "data": {
      "text/plain": [
       "Dataset CIFAR10\n",
       "    Number of datapoints: 50000\n",
       "    Root location: data\n",
       "    Split: Train\n",
       "    StandardTransform\n",
       "Transform: Compose(\n",
       "               ToTensor()\n",
       "               Normalize(mean=(0.5, 0.5, 0.5), std=(0.5, 0.5, 0.5))\n",
       "           )"
      ]
     },
     "execution_count": 8,
     "metadata": {},
     "output_type": "execute_result"
    }
   ],
   "source": [
    "train_dataset"
   ]
  },
  {
   "cell_type": "code",
   "execution_count": 9,
   "id": "865c5a3b",
   "metadata": {},
   "outputs": [],
   "source": [
    "train_loader = torch.utils.data.DataLoader(dataset=train_dataset,\n",
    "                                          batch_size=batch_size,\n",
    "                                          shuffle=True)"
   ]
  },
  {
   "cell_type": "code",
   "execution_count": 11,
   "id": "8784af7a",
   "metadata": {},
   "outputs": [
    {
     "data": {
      "text/plain": [
       "torch.Size([4, 3, 32, 32])"
      ]
     },
     "execution_count": 11,
     "metadata": {},
     "output_type": "execute_result"
    }
   ],
   "source": [
    "examples = iter(train_loader)\n",
    "samples ,labels = next(examples)\n",
    "samples.shape"
   ]
  },
  {
   "cell_type": "code",
   "execution_count": 12,
   "id": "76198c20",
   "metadata": {},
   "outputs": [],
   "source": [
    "test_loader = torch.utils.data.DataLoader(dataset=test_dataset,\n",
    "                                         batch_size = batch_size,\n",
    "                                         shuffle = False)"
   ]
  },
  {
   "cell_type": "code",
   "execution_count": 13,
   "id": "f5dbe57c",
   "metadata": {},
   "outputs": [],
   "source": [
    "classes = ('plane','car','bird','cat','deer','dog','frog','horse','ship','truck')"
   ]
  },
  {
   "cell_type": "code",
   "execution_count": 14,
   "id": "27c2b82c",
   "metadata": {},
   "outputs": [
    {
     "data": {
      "text/plain": [
       "('plane',\n",
       " 'car',\n",
       " 'bird',\n",
       " 'cat',\n",
       " 'deer',\n",
       " 'dog',\n",
       " 'frog',\n",
       " 'horse',\n",
       " 'ship',\n",
       " 'truck')"
      ]
     },
     "execution_count": 14,
     "metadata": {},
     "output_type": "execute_result"
    }
   ],
   "source": [
    "classes"
   ]
  },
  {
   "cell_type": "code",
   "execution_count": 15,
   "id": "13d2d96c",
   "metadata": {},
   "outputs": [],
   "source": [
    "class ConvNet(nn.Module):\n",
    "    def __init__(self):\n",
    "        super(ConvNet,self).__init__()\n",
    "        self.conv1 = nn.Conv2d(3,6,5)\n",
    "        self.pool = nn.MaxPool2d(2,2)\n",
    "        self.conv2 = nn.Conv2d(6,16,5)\n",
    "        self.fc1 = nn.Linear(16*5*5,120)\n",
    "        self.fc2 = nn.Linear(120,84)\n",
    "        self.fc3 = nn.Linear(84,10)\n",
    "    def forward(self,x):\n",
    "        x = self.pool(F.relu(self.conv1(x)))\n",
    "        x = self.pool(F.relu(self.conv2(x)))\n",
    "        x = x.view(-1,16*5*5)\n",
    "        x = F.relu(self.fc1(x))\n",
    "        x = F.relu(self.fc2(x))\n",
    "        x = self.fc3(x)\n",
    "        return x"
   ]
  },
  {
   "cell_type": "code",
   "execution_count": 16,
   "id": "7cc5fbd5",
   "metadata": {},
   "outputs": [],
   "source": [
    "model = ConvNet().to(device)"
   ]
  },
  {
   "cell_type": "code",
   "execution_count": 17,
   "id": "7d9e31ff",
   "metadata": {},
   "outputs": [
    {
     "data": {
      "text/plain": [
       "ConvNet(\n",
       "  (conv1): Conv2d(3, 6, kernel_size=(5, 5), stride=(1, 1))\n",
       "  (pool): MaxPool2d(kernel_size=2, stride=2, padding=0, dilation=1, ceil_mode=False)\n",
       "  (conv2): Conv2d(6, 16, kernel_size=(5, 5), stride=(1, 1))\n",
       "  (fc1): Linear(in_features=400, out_features=120, bias=True)\n",
       "  (fc2): Linear(in_features=120, out_features=84, bias=True)\n",
       "  (fc3): Linear(in_features=84, out_features=10, bias=True)\n",
       ")"
      ]
     },
     "execution_count": 17,
     "metadata": {},
     "output_type": "execute_result"
    }
   ],
   "source": [
    "model"
   ]
  },
  {
   "cell_type": "code",
   "execution_count": 18,
   "id": "6e4cf13a",
   "metadata": {},
   "outputs": [],
   "source": [
    "criterion = nn.CrossEntropyLoss()\n",
    "optimizer = torch.optim.Adam(model.parameters(),lr=learning_rate)"
   ]
  },
  {
   "cell_type": "code",
   "execution_count": 19,
   "id": "407560f9",
   "metadata": {},
   "outputs": [
    {
     "name": "stdout",
     "output_type": "stream",
     "text": [
      "Epoch [1/10],step [2000/12500],loss: 2.3010\n",
      "Epoch [1/10],step [4000/12500],loss: 2.3329\n",
      "Epoch [1/10],step [6000/12500],loss: 2.3646\n",
      "Epoch [1/10],step [8000/12500],loss: 2.3786\n",
      "Epoch [1/10],step [10000/12500],loss: 2.3139\n",
      "Epoch [1/10],step [12000/12500],loss: 2.3196\n",
      "Epoch [2/10],step [2000/12500],loss: 2.3492\n",
      "Epoch [2/10],step [4000/12500],loss: 2.3533\n",
      "Epoch [2/10],step [6000/12500],loss: 2.2743\n",
      "Epoch [2/10],step [8000/12500],loss: 2.3344\n",
      "Epoch [2/10],step [10000/12500],loss: 2.3034\n",
      "Epoch [2/10],step [12000/12500],loss: 2.2760\n",
      "Epoch [3/10],step [2000/12500],loss: 2.3291\n",
      "Epoch [3/10],step [4000/12500],loss: 2.3015\n",
      "Epoch [3/10],step [6000/12500],loss: 2.4259\n",
      "Epoch [3/10],step [8000/12500],loss: 2.3386\n",
      "Epoch [3/10],step [10000/12500],loss: 2.3162\n",
      "Epoch [3/10],step [12000/12500],loss: 2.2548\n",
      "Epoch [4/10],step [2000/12500],loss: 2.3257\n",
      "Epoch [4/10],step [4000/12500],loss: 2.3444\n",
      "Epoch [4/10],step [6000/12500],loss: 2.3139\n",
      "Epoch [4/10],step [8000/12500],loss: 2.2713\n",
      "Epoch [4/10],step [10000/12500],loss: 2.2710\n",
      "Epoch [4/10],step [12000/12500],loss: 2.2931\n",
      "Epoch [5/10],step [2000/12500],loss: 2.3341\n",
      "Epoch [5/10],step [4000/12500],loss: 2.2831\n",
      "Epoch [5/10],step [6000/12500],loss: 2.3740\n",
      "Epoch [5/10],step [8000/12500],loss: 2.2978\n",
      "Epoch [5/10],step [10000/12500],loss: 2.2995\n",
      "Epoch [5/10],step [12000/12500],loss: 2.3197\n",
      "Epoch [6/10],step [2000/12500],loss: 2.3756\n",
      "Epoch [6/10],step [4000/12500],loss: 2.3251\n",
      "Epoch [6/10],step [6000/12500],loss: 2.2621\n",
      "Epoch [6/10],step [8000/12500],loss: 2.2980\n",
      "Epoch [6/10],step [10000/12500],loss: 2.3619\n",
      "Epoch [6/10],step [12000/12500],loss: 2.4033\n",
      "Epoch [7/10],step [2000/12500],loss: 2.3128\n",
      "Epoch [7/10],step [4000/12500],loss: 2.2987\n",
      "Epoch [7/10],step [6000/12500],loss: 2.3259\n",
      "Epoch [7/10],step [8000/12500],loss: 2.1996\n",
      "Epoch [7/10],step [10000/12500],loss: 2.2980\n",
      "Epoch [7/10],step [12000/12500],loss: 2.2993\n",
      "Epoch [8/10],step [2000/12500],loss: 2.3234\n",
      "Epoch [8/10],step [4000/12500],loss: 2.2878\n",
      "Epoch [8/10],step [6000/12500],loss: 2.3239\n",
      "Epoch [8/10],step [8000/12500],loss: 2.2796\n",
      "Epoch [8/10],step [10000/12500],loss: 2.3227\n",
      "Epoch [8/10],step [12000/12500],loss: 2.3097\n",
      "Epoch [9/10],step [2000/12500],loss: 2.3167\n",
      "Epoch [9/10],step [4000/12500],loss: 2.2902\n",
      "Epoch [9/10],step [6000/12500],loss: 2.3087\n",
      "Epoch [9/10],step [8000/12500],loss: 2.3603\n",
      "Epoch [9/10],step [10000/12500],loss: 2.2843\n",
      "Epoch [9/10],step [12000/12500],loss: 2.2095\n",
      "Epoch [10/10],step [2000/12500],loss: 2.3171\n",
      "Epoch [10/10],step [4000/12500],loss: 2.3543\n",
      "Epoch [10/10],step [6000/12500],loss: 2.2300\n",
      "Epoch [10/10],step [8000/12500],loss: 2.2903\n",
      "Epoch [10/10],step [10000/12500],loss: 2.2330\n",
      "Epoch [10/10],step [12000/12500],loss: 2.2812\n",
      "Finished Traing\n"
     ]
    }
   ],
   "source": [
    "n_total_steps = len(train_loader)\n",
    "for epoch in range(num_epochs):\n",
    "    for i, (images,labels) in enumerate(train_loader):\n",
    "        images = images.to(device)\n",
    "        labels = labels.to(device)\n",
    "        #forward\n",
    "        outputs = model(images)\n",
    "        loss = criterion(outputs,labels)\n",
    "        #backword\n",
    "        optimizer.zero_grad()\n",
    "        loss.backward()\n",
    "        optimizer.step()\n",
    "        if (i+1) % 2000 == 0:\n",
    "            print(f'Epoch [{epoch+1}/{num_epochs}],step [{i+1}/{n_total_steps}],loss: {loss.item():.4f}')\n",
    "print(\"Finished Traing\")"
   ]
  },
  {
   "cell_type": "code",
   "execution_count": 20,
   "id": "071eaa6e",
   "metadata": {},
   "outputs": [
    {
     "name": "stdout",
     "output_type": "stream",
     "text": [
      "accuracy: 10.0%\n",
      "accuracy of plane:0.0%\n",
      "accuracy of car:100.0%\n",
      "accuracy of bird:0.0%\n",
      "accuracy of cat:0.0%\n",
      "accuracy of deer:0.0%\n",
      "accuracy of dog:0.0%\n",
      "accuracy of frog:0.0%\n",
      "accuracy of horse:0.0%\n",
      "accuracy of ship:0.0%\n",
      "accuracy of truck:0.0%\n"
     ]
    }
   ],
   "source": [
    "with torch.no_grad():\n",
    "    n_correct = 0\n",
    "    n_samples = 0\n",
    "    n_class_correct = [0 for i in range(10)]\n",
    "    n_class_samples = [0 for i in range(10)]\n",
    "    for images,labels in test_loader:\n",
    "        images = images.to(device)\n",
    "        labels = labels.to(device)\n",
    "        outputs = model(images)\n",
    "        _,predicted = torch.max(outputs,1)\n",
    "        n_samples += labels.size(0)\n",
    "        n_correct += (predicted==labels).sum().item()\n",
    "        for i in range(batch_size):\n",
    "            label = labels[i]\n",
    "            pred = predicted[i]\n",
    "            if (label==pred):\n",
    "                n_class_correct[label] +=1\n",
    "            n_class_samples[label]+=1\n",
    "    acc = 100.0 * n_correct/n_samples\n",
    "    print(f'accuracy: {acc}%')\n",
    "    for i in range(10):\n",
    "        acc =100.0 *n_class_correct[i]/n_class_samples[i]\n",
    "        print(f'accuracy of {classes[i]}:{acc}%')"
   ]
  },
  {
   "cell_type": "code",
   "execution_count": 21,
   "id": "83ae0cd9",
   "metadata": {},
   "outputs": [
    {
     "data": {
      "text/plain": [
       "4"
      ]
     },
     "execution_count": 21,
     "metadata": {},
     "output_type": "execute_result"
    }
   ],
   "source": [
    "batch_size"
   ]
  },
  {
   "cell_type": "code",
   "execution_count": null,
   "id": "1ec7f372",
   "metadata": {},
   "outputs": [],
   "source": []
  }
 ],
 "metadata": {
  "kernelspec": {
   "display_name": "Python 3 (ipykernel)",
   "language": "python",
   "name": "python3"
  },
  "language_info": {
   "codemirror_mode": {
    "name": "ipython",
    "version": 3
   },
   "file_extension": ".py",
   "mimetype": "text/x-python",
   "name": "python",
   "nbconvert_exporter": "python",
   "pygments_lexer": "ipython3",
   "version": "3.9.7"
  }
 },
 "nbformat": 4,
 "nbformat_minor": 5
}

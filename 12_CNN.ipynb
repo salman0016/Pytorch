{
 "cells": [
  {
   "cell_type": "code",
   "execution_count": 1,
   "id": "6b267c90",
   "metadata": {},
   "outputs": [],
   "source": [
    "import torch\n",
    "import torch.nn as nn\n",
    "import torch.nn.functional as F\n",
    "import torchvision\n",
    "import torchvision.transforms as transforms\n",
    "import matplotlib.pyplot as plt\n",
    "import numpy as np"
   ]
  },
  {
   "cell_type": "code",
   "execution_count": 2,
   "id": "065893e1",
   "metadata": {},
   "outputs": [],
   "source": [
    "device = torch.device('cuda' if torch.cuda.is_available() else 'cpu')"
   ]
  },
  {
   "cell_type": "code",
   "execution_count": 3,
   "id": "2eb1849a",
   "metadata": {},
   "outputs": [
    {
     "data": {
      "text/plain": [
       "device(type='cpu')"
      ]
     },
     "execution_count": 3,
     "metadata": {},
     "output_type": "execute_result"
    }
   ],
   "source": [
    "device"
   ]
  },
  {
   "cell_type": "code",
   "execution_count": 4,
   "id": "4851fbe3",
   "metadata": {},
   "outputs": [],
   "source": [
    "#Hyperparameters\n",
    "num_epochs = 10\n",
    "batch_size = 4\n",
    "learning_rate = 0.001"
   ]
  },
  {
   "cell_type": "code",
   "execution_count": 5,
   "id": "79190a4a",
   "metadata": {},
   "outputs": [],
   "source": [
    "transform = transforms.Compose(\n",
    "[transforms.ToTensor(),\n",
    "transforms.Normalize((0.5,0.5,0.5),(0.5,0.5,0.5))])"
   ]
  },
  {
   "cell_type": "code",
   "execution_count": 6,
   "id": "1912c0b6",
   "metadata": {},
   "outputs": [
    {
     "name": "stdout",
     "output_type": "stream",
     "text": [
      "Files already downloaded and verified\n"
     ]
    }
   ],
   "source": [
    "train_dataset = torchvision.datasets.CIFAR10(root='data',\n",
    "                                            train=True,\n",
    "                                            download=True,\n",
    "                                            transform=transform)"
   ]
  },
  {
   "cell_type": "code",
   "execution_count": 7,
   "id": "ddee6686",
   "metadata": {},
   "outputs": [
    {
     "name": "stdout",
     "output_type": "stream",
     "text": [
      "Files already downloaded and verified\n"
     ]
    }
   ],
   "source": [
    "test_dataset = torchvision.datasets.CIFAR10(root='data',\n",
    "                                            train=False,\n",
    "                                            download=True,\n",
    "                                            transform=transform)"
   ]
  },
  {
   "cell_type": "code",
   "execution_count": 8,
   "id": "a8062194",
   "metadata": {},
   "outputs": [
    {
     "data": {
      "text/plain": [
       "Dataset CIFAR10\n",
       "    Number of datapoints: 50000\n",
       "    Root location: data\n",
       "    Split: Train\n",
       "    StandardTransform\n",
       "Transform: Compose(\n",
       "               ToTensor()\n",
       "               Normalize(mean=(0.5, 0.5, 0.5), std=(0.5, 0.5, 0.5))\n",
       "           )"
      ]
     },
     "execution_count": 8,
     "metadata": {},
     "output_type": "execute_result"
    }
   ],
   "source": [
    "train_dataset"
   ]
  },
  {
   "cell_type": "code",
   "execution_count": 9,
   "id": "b8299a1d",
   "metadata": {},
   "outputs": [],
   "source": [
    "train_loader = torch.utils.data.DataLoader(dataset=train_dataset,\n",
    "                                          batch_size=batch_size,\n",
    "                                          shuffle=True)"
   ]
  },
  {
   "cell_type": "code",
   "execution_count": 10,
   "id": "31d2b01c",
   "metadata": {},
   "outputs": [
    {
     "data": {
      "text/plain": [
       "torch.Size([4, 3, 32, 32])"
      ]
     },
     "execution_count": 10,
     "metadata": {},
     "output_type": "execute_result"
    }
   ],
   "source": [
    "examples = iter(train_loader)\n",
    "samples ,labels = next(examples)\n",
    "samples.shape"
   ]
  },
  {
   "cell_type": "code",
   "execution_count": 11,
   "id": "f185e65b",
   "metadata": {},
   "outputs": [],
   "source": [
    "test_loader = torch.utils.data.DataLoader(dataset=test_dataset,\n",
    "                                         batch_size = batch_size,\n",
    "                                         shuffle = False)"
   ]
  },
  {
   "cell_type": "code",
   "execution_count": 12,
   "id": "3c0f6839",
   "metadata": {},
   "outputs": [],
   "source": [
    "classes = ('plane','car','bird','cat','deer','dog','frog','horse','ship','truck')"
   ]
  },
  {
   "cell_type": "code",
   "execution_count": 13,
   "id": "f9a7bb4a",
   "metadata": {},
   "outputs": [
    {
     "data": {
      "text/plain": [
       "('plane',\n",
       " 'car',\n",
       " 'bird',\n",
       " 'cat',\n",
       " 'deer',\n",
       " 'dog',\n",
       " 'frog',\n",
       " 'horse',\n",
       " 'ship',\n",
       " 'truck')"
      ]
     },
     "execution_count": 13,
     "metadata": {},
     "output_type": "execute_result"
    }
   ],
   "source": [
    "classes"
   ]
  },
  {
   "cell_type": "code",
   "execution_count": 14,
   "id": "aac954c1",
   "metadata": {},
   "outputs": [],
   "source": [
    "class ConvNet(nn.Module):\n",
    "    def __init__(self):\n",
    "        super(ConvNet,self).__init__()\n",
    "        self.conv1 = nn.Conv2d(3,6,5)\n",
    "        self.pool = nn.MaxPool2d(2,2)\n",
    "        self.conv2 = nn.Conv2d(6,16,5)\n",
    "        self.fc1 = nn.Linear(16*5*5,120)\n",
    "        self.fc2 = nn.Linear(120,84)\n",
    "        self.fc3 = nn.Linear(84,10)\n",
    "    def forward(self,x):\n",
    "        x = self.pool(F.relu(self.conv1(x)))\n",
    "        x = self.pool(F.relu(self.conv2(x)))\n",
    "        x = x.view(-1,16*5*5)\n",
    "        x = F.relu(self.fc1(x))\n",
    "        x = F.relu(self.fc2(x))\n",
    "        x = self.fc3(x)\n",
    "        return x"
   ]
  },
  {
   "cell_type": "code",
   "execution_count": 15,
   "id": "ba12ad62",
   "metadata": {},
   "outputs": [],
   "source": [
    "model = ConvNet().to(device)"
   ]
  },
  {
   "cell_type": "code",
   "execution_count": 16,
   "id": "e7d7d9ae",
   "metadata": {},
   "outputs": [
    {
     "data": {
      "text/plain": [
       "ConvNet(\n",
       "  (conv1): Conv2d(3, 6, kernel_size=(5, 5), stride=(1, 1))\n",
       "  (pool): MaxPool2d(kernel_size=2, stride=2, padding=0, dilation=1, ceil_mode=False)\n",
       "  (conv2): Conv2d(6, 16, kernel_size=(5, 5), stride=(1, 1))\n",
       "  (fc1): Linear(in_features=400, out_features=120, bias=True)\n",
       "  (fc2): Linear(in_features=120, out_features=84, bias=True)\n",
       "  (fc3): Linear(in_features=84, out_features=10, bias=True)\n",
       ")"
      ]
     },
     "execution_count": 16,
     "metadata": {},
     "output_type": "execute_result"
    }
   ],
   "source": [
    "model"
   ]
  },
  {
   "cell_type": "code",
   "execution_count": 17,
   "id": "058190e4",
   "metadata": {},
   "outputs": [],
   "source": [
    "criterion = nn.CrossEntropyLoss()\n",
    "optimizer = torch.optim.SGD(model.parameters(),lr=learning_rate)"
   ]
  },
  {
   "cell_type": "code",
   "execution_count": 18,
   "id": "7cd8ff5e",
   "metadata": {},
   "outputs": [
    {
     "name": "stdout",
     "output_type": "stream",
     "text": [
      "Epoch [1/10],step [2000/12500],loss: 2.3345\n",
      "Epoch [1/10],step [4000/12500],loss: 2.3110\n",
      "Epoch [1/10],step [6000/12500],loss: 2.2939\n",
      "Epoch [1/10],step [8000/12500],loss: 2.2936\n",
      "Epoch [1/10],step [10000/12500],loss: 2.2012\n",
      "Epoch [1/10],step [12000/12500],loss: 2.0851\n",
      "Epoch [2/10],step [2000/12500],loss: 1.8439\n",
      "Epoch [2/10],step [4000/12500],loss: 1.7355\n",
      "Epoch [2/10],step [6000/12500],loss: 2.4176\n",
      "Epoch [2/10],step [8000/12500],loss: 1.7187\n",
      "Epoch [2/10],step [10000/12500],loss: 1.7885\n",
      "Epoch [2/10],step [12000/12500],loss: 1.9448\n",
      "Epoch [3/10],step [2000/12500],loss: 1.8555\n",
      "Epoch [3/10],step [4000/12500],loss: 1.8537\n",
      "Epoch [3/10],step [6000/12500],loss: 1.7175\n",
      "Epoch [3/10],step [8000/12500],loss: 2.0185\n",
      "Epoch [3/10],step [10000/12500],loss: 1.8342\n",
      "Epoch [3/10],step [12000/12500],loss: 2.0322\n",
      "Epoch [4/10],step [2000/12500],loss: 1.2355\n",
      "Epoch [4/10],step [4000/12500],loss: 2.5201\n",
      "Epoch [4/10],step [6000/12500],loss: 1.4742\n",
      "Epoch [4/10],step [8000/12500],loss: 1.0307\n",
      "Epoch [4/10],step [10000/12500],loss: 0.8619\n",
      "Epoch [4/10],step [12000/12500],loss: 1.7513\n",
      "Epoch [5/10],step [2000/12500],loss: 1.4240\n",
      "Epoch [5/10],step [4000/12500],loss: 1.1656\n",
      "Epoch [5/10],step [6000/12500],loss: 1.3134\n",
      "Epoch [5/10],step [8000/12500],loss: 1.0044\n",
      "Epoch [5/10],step [10000/12500],loss: 0.9870\n",
      "Epoch [5/10],step [12000/12500],loss: 1.7130\n",
      "Epoch [6/10],step [2000/12500],loss: 0.8312\n",
      "Epoch [6/10],step [4000/12500],loss: 0.9068\n",
      "Epoch [6/10],step [6000/12500],loss: 1.0920\n",
      "Epoch [6/10],step [8000/12500],loss: 1.7282\n",
      "Epoch [6/10],step [10000/12500],loss: 0.7175\n",
      "Epoch [6/10],step [12000/12500],loss: 0.9965\n",
      "Epoch [7/10],step [2000/12500],loss: 1.5161\n",
      "Epoch [7/10],step [4000/12500],loss: 1.2151\n",
      "Epoch [7/10],step [6000/12500],loss: 0.9718\n",
      "Epoch [7/10],step [8000/12500],loss: 0.8185\n",
      "Epoch [7/10],step [10000/12500],loss: 1.1329\n",
      "Epoch [7/10],step [12000/12500],loss: 0.8131\n",
      "Epoch [8/10],step [2000/12500],loss: 1.6299\n",
      "Epoch [8/10],step [4000/12500],loss: 1.0018\n",
      "Epoch [8/10],step [6000/12500],loss: 1.1392\n",
      "Epoch [8/10],step [8000/12500],loss: 0.7172\n",
      "Epoch [8/10],step [10000/12500],loss: 1.5937\n",
      "Epoch [8/10],step [12000/12500],loss: 1.0189\n",
      "Epoch [9/10],step [2000/12500],loss: 1.2516\n",
      "Epoch [9/10],step [4000/12500],loss: 0.9323\n",
      "Epoch [9/10],step [6000/12500],loss: 1.3277\n",
      "Epoch [9/10],step [8000/12500],loss: 0.6261\n",
      "Epoch [9/10],step [10000/12500],loss: 1.3721\n",
      "Epoch [9/10],step [12000/12500],loss: 0.7509\n",
      "Epoch [10/10],step [2000/12500],loss: 0.7481\n",
      "Epoch [10/10],step [4000/12500],loss: 0.7365\n",
      "Epoch [10/10],step [6000/12500],loss: 0.8341\n",
      "Epoch [10/10],step [8000/12500],loss: 0.3385\n",
      "Epoch [10/10],step [10000/12500],loss: 1.1962\n",
      "Epoch [10/10],step [12000/12500],loss: 1.3019\n",
      "Finished Traing\n"
     ]
    }
   ],
   "source": [
    "n_total_steps = len(train_loader)\n",
    "for epoch in range(num_epochs):\n",
    "    for i, (images,labels) in enumerate(train_loader):\n",
    "        images = images.to(device)\n",
    "        labels = labels.to(device)\n",
    "        #forward\n",
    "        outputs = model(images)\n",
    "        loss = criterion(outputs,labels)\n",
    "        #backword\n",
    "        optimizer.zero_grad()\n",
    "        loss.backward()\n",
    "        optimizer.step()\n",
    "        if (i+1) % 2000 == 0:\n",
    "            print(f'Epoch [{epoch+1}/{num_epochs}],step [{i+1}/{n_total_steps}],loss: {loss.item():.4f}')\n",
    "print(\"Finished Traing\")"
   ]
  },
  {
   "cell_type": "code",
   "execution_count": 19,
   "id": "601c70f0",
   "metadata": {},
   "outputs": [
    {
     "name": "stdout",
     "output_type": "stream",
     "text": [
      "accuracy: 57.55%\n",
      "accuracy of plane:66.4%\n",
      "accuracy of car:76.7%\n",
      "accuracy of bird:36.5%\n",
      "accuracy of cat:33.3%\n",
      "accuracy of deer:50.3%\n",
      "accuracy of dog:58.4%\n",
      "accuracy of frog:66.7%\n",
      "accuracy of horse:58.5%\n",
      "accuracy of ship:77.2%\n",
      "accuracy of truck:51.5%\n"
     ]
    }
   ],
   "source": [
    "with torch.no_grad():\n",
    "    n_correct = 0\n",
    "    n_samples = 0\n",
    "    n_class_correct = [0 for i in range(10)]\n",
    "    n_class_samples = [0 for i in range(10)]\n",
    "    for images,labels in test_loader:\n",
    "        images = images.to(device)\n",
    "        labels = labels.to(device)\n",
    "        outputs = model(images)\n",
    "        _,predicted = torch.max(outputs,1)\n",
    "        n_samples += labels.size(0)\n",
    "        n_correct += (predicted==labels).sum().item()\n",
    "        for i in range(batch_size):\n",
    "            label = labels[i]\n",
    "            pred = predicted[i]\n",
    "            if (label==pred):\n",
    "                n_class_correct[label] +=1\n",
    "            n_class_samples[label]+=1\n",
    "    acc = 100.0 * n_correct/n_samples\n",
    "    print(f'accuracy: {acc}%')\n",
    "    for i in range(10):\n",
    "        acc =100.0 *n_class_correct[i]/n_class_samples[i]\n",
    "        print(f'accuracy of {classes[i]}:{acc}%')"
   ]
  },
  {
   "cell_type": "code",
   "execution_count": 20,
   "id": "c88de4df",
   "metadata": {},
   "outputs": [
    {
     "data": {
      "text/plain": [
       "4"
      ]
     },
     "execution_count": 20,
     "metadata": {},
     "output_type": "execute_result"
    }
   ],
   "source": [
    "batch_size"
   ]
  },
  {
   "cell_type": "code",
   "execution_count": null,
   "id": "43a1a300",
   "metadata": {},
   "outputs": [],
   "source": []
  }
 ],
 "metadata": {
  "kernelspec": {
   "display_name": "Python 3 (ipykernel)",
   "language": "python",
   "name": "python3"
  },
  "language_info": {
   "codemirror_mode": {
    "name": "ipython",
    "version": 3
   },
   "file_extension": ".py",
   "mimetype": "text/x-python",
   "name": "python",
   "nbconvert_exporter": "python",
   "pygments_lexer": "ipython3",
   "version": "3.9.7"
  }
 },
 "nbformat": 4,
 "nbformat_minor": 5
}

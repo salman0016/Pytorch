{
 "cells": [
  {
   "cell_type": "code",
   "execution_count": 1,
   "id": "3796dc3c",
   "metadata": {},
   "outputs": [],
   "source": [
    "# Almost everything is an Object, with its properties and methods.\n",
    "# A class is like an object constructor, or a blueprint for creating object."
   ]
  },
  {
   "cell_type": "code",
   "execution_count": 2,
   "id": "3cd7b0db",
   "metadata": {},
   "outputs": [],
   "source": [
    "class MyClass:\n",
    "    x = 5 #(property)"
   ]
  },
  {
   "cell_type": "code",
   "execution_count": 3,
   "id": "307241f4",
   "metadata": {},
   "outputs": [],
   "source": [
    "# now create an object named p1 and print the value og x"
   ]
  },
  {
   "cell_type": "code",
   "execution_count": 4,
   "id": "fbd93f36",
   "metadata": {},
   "outputs": [],
   "source": [
    "p1 = MyClass()"
   ]
  },
  {
   "cell_type": "code",
   "execution_count": 5,
   "id": "c775cc2d",
   "metadata": {},
   "outputs": [
    {
     "data": {
      "text/plain": [
       "5"
      ]
     },
     "execution_count": 5,
     "metadata": {},
     "output_type": "execute_result"
    }
   ],
   "source": [
    "p1.x"
   ]
  },
  {
   "cell_type": "code",
   "execution_count": 6,
   "id": "234a4c70",
   "metadata": {},
   "outputs": [],
   "source": [
    "#all classes have a function called __init__() which is always execute when class being initied.\n",
    "# use __init__() function to asign values to object properties or the operators that necessary to do when the oject is being created."
   ]
  },
  {
   "cell_type": "code",
   "execution_count": 7,
   "id": "569a1d9e",
   "metadata": {},
   "outputs": [],
   "source": [
    "class Person:\n",
    "    def __init__(self,name,age):\n",
    "        self.name = name\n",
    "        self.age = age"
   ]
  },
  {
   "cell_type": "code",
   "execution_count": 8,
   "id": "4c22c136",
   "metadata": {},
   "outputs": [],
   "source": [
    "p1 = Person(\"salman\",27)"
   ]
  },
  {
   "cell_type": "code",
   "execution_count": 9,
   "id": "bb771120",
   "metadata": {},
   "outputs": [
    {
     "data": {
      "text/plain": [
       "'salman'"
      ]
     },
     "execution_count": 9,
     "metadata": {},
     "output_type": "execute_result"
    }
   ],
   "source": [
    "p1.name"
   ]
  },
  {
   "cell_type": "code",
   "execution_count": 10,
   "id": "45b06696",
   "metadata": {},
   "outputs": [
    {
     "data": {
      "text/plain": [
       "27"
      ]
     },
     "execution_count": 10,
     "metadata": {},
     "output_type": "execute_result"
    }
   ],
   "source": [
    "p1.age"
   ]
  },
  {
   "cell_type": "code",
   "execution_count": 11,
   "id": "239045a1",
   "metadata": {},
   "outputs": [],
   "source": [
    "# inheritance allows us to define a class that inherits all the methods and properties from another class"
   ]
  },
  {
   "cell_type": "code",
   "execution_count": 12,
   "id": "53ecf7e3",
   "metadata": {},
   "outputs": [],
   "source": [
    "#create parent class\n",
    "class Person:\n",
    "    def __init__(self,fname,lname):\n",
    "        self.firstname = fname\n",
    "        self.lastname = lname\n",
    "    def printname(self):\n",
    "        print(self.firstname,self.lastname)"
   ]
  },
  {
   "cell_type": "code",
   "execution_count": 13,
   "id": "8b02d1ca",
   "metadata": {},
   "outputs": [],
   "source": [
    "# create an obj\n",
    "x = Person(\"salman\",\"sheikh\")"
   ]
  },
  {
   "cell_type": "code",
   "execution_count": 14,
   "id": "11090ca4",
   "metadata": {},
   "outputs": [
    {
     "name": "stdout",
     "output_type": "stream",
     "text": [
      "salman sheikh\n"
     ]
    }
   ],
   "source": [
    "x.printname()"
   ]
  },
  {
   "cell_type": "code",
   "execution_count": 15,
   "id": "2fb33307",
   "metadata": {},
   "outputs": [],
   "source": [
    "#create child class\n",
    "class student(Person):\n",
    "    pass      #when you dont have add any properties and methods"
   ]
  },
  {
   "cell_type": "code",
   "execution_count": 16,
   "id": "f248292a",
   "metadata": {},
   "outputs": [],
   "source": [
    "x = student('sahil','sheikh')"
   ]
  },
  {
   "cell_type": "code",
   "execution_count": 17,
   "id": "eb0b71f4",
   "metadata": {},
   "outputs": [
    {
     "name": "stdout",
     "output_type": "stream",
     "text": [
      "sahil sheikh\n"
     ]
    }
   ],
   "source": [
    "x.printname()"
   ]
  },
  {
   "cell_type": "code",
   "execution_count": 18,
   "id": "8d16f6fa",
   "metadata": {},
   "outputs": [],
   "source": [
    "# add __init__() function when you add the __init__() func^ the child no longer inherite the parent"
   ]
  },
  {
   "cell_type": "code",
   "execution_count": 19,
   "id": "fc91572d",
   "metadata": {},
   "outputs": [],
   "source": [
    "class student(Person):\n",
    "    def __init__(self,fname,lname):\n",
    "        self.firstname = fname\n",
    "        self.lastname = lname"
   ]
  },
  {
   "cell_type": "code",
   "execution_count": 20,
   "id": "06df68bc",
   "metadata": {},
   "outputs": [],
   "source": [
    "#to keep inheritance of parent"
   ]
  },
  {
   "cell_type": "code",
   "execution_count": 22,
   "id": "2b9e6dee",
   "metadata": {},
   "outputs": [],
   "source": [
    "class student(Person):\n",
    "    def __init__(self,fname,lname):\n",
    "        Person.__init__(self,fname,lname)"
   ]
  },
  {
   "cell_type": "code",
   "execution_count": 23,
   "id": "b60628d4",
   "metadata": {},
   "outputs": [],
   "source": [
    "# Super() function that will make the child class inherit all the methods and properties from parents"
   ]
  },
  {
   "cell_type": "code",
   "execution_count": 24,
   "id": "2117fa2b",
   "metadata": {},
   "outputs": [],
   "source": [
    "class student(Person):\n",
    "    def __init__(self,fname,lname,year):\n",
    "        super().__init__(fname,lname)\n",
    "        self.graduationyear = year"
   ]
  },
  {
   "cell_type": "code",
   "execution_count": 25,
   "id": "c69c98b4",
   "metadata": {},
   "outputs": [],
   "source": [
    "x = student('salman','sheikh','2020')"
   ]
  },
  {
   "cell_type": "code",
   "execution_count": 26,
   "id": "721759d8",
   "metadata": {},
   "outputs": [
    {
     "data": {
      "text/plain": [
       "'2020'"
      ]
     },
     "execution_count": 26,
     "metadata": {},
     "output_type": "execute_result"
    }
   ],
   "source": [
    "x.graduationyear"
   ]
  },
  {
   "cell_type": "code",
   "execution_count": 27,
   "id": "3e76cc42",
   "metadata": {},
   "outputs": [
    {
     "name": "stdout",
     "output_type": "stream",
     "text": [
      "salman sheikh\n"
     ]
    }
   ],
   "source": [
    "x.printname()"
   ]
  },
  {
   "cell_type": "code",
   "execution_count": 28,
   "id": "9f1613ff",
   "metadata": {},
   "outputs": [],
   "source": [
    "# add some more methods"
   ]
  },
  {
   "cell_type": "code",
   "execution_count": null,
   "id": "cc91ed2a",
   "metadata": {},
   "outputs": [],
   "source": []
  }
 ],
 "metadata": {
  "kernelspec": {
   "display_name": "Python 3 (ipykernel)",
   "language": "python",
   "name": "python3"
  },
  "language_info": {
   "codemirror_mode": {
    "name": "ipython",
    "version": 3
   },
   "file_extension": ".py",
   "mimetype": "text/x-python",
   "name": "python",
   "nbconvert_exporter": "python",
   "pygments_lexer": "ipython3",
   "version": "3.9.7"
  }
 },
 "nbformat": 4,
 "nbformat_minor": 5
}

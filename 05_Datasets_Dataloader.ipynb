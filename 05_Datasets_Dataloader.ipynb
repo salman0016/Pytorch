{
 "cells": [
  {
   "cell_type": "code",
   "execution_count": 1,
   "id": "d88eef3c",
   "metadata": {},
   "outputs": [
    {
     "name": "stdout",
     "output_type": "stream",
     "text": [
      "Requirement already satisfied: torchvision in /home/salman/anaconda3/lib/python3.9/site-packages (0.14.1)\n",
      "Requirement already satisfied: pillow!=8.3.*,>=5.3.0 in /home/salman/anaconda3/lib/python3.9/site-packages (from torchvision) (8.4.0)\n",
      "Requirement already satisfied: torch==1.13.1 in /home/salman/anaconda3/lib/python3.9/site-packages (from torchvision) (1.13.1)\n",
      "Requirement already satisfied: numpy in /home/salman/anaconda3/lib/python3.9/site-packages (from torchvision) (1.20.3)\n",
      "Requirement already satisfied: typing-extensions in /home/salman/anaconda3/lib/python3.9/site-packages (from torchvision) (3.10.0.2)\n",
      "Requirement already satisfied: requests in /home/salman/anaconda3/lib/python3.9/site-packages (from torchvision) (2.26.0)\n",
      "Requirement already satisfied: nvidia-cudnn-cu11==8.5.0.96 in /home/salman/anaconda3/lib/python3.9/site-packages (from torch==1.13.1->torchvision) (8.5.0.96)\n",
      "Requirement already satisfied: nvidia-cublas-cu11==11.10.3.66 in /home/salman/anaconda3/lib/python3.9/site-packages (from torch==1.13.1->torchvision) (11.10.3.66)\n",
      "Requirement already satisfied: nvidia-cuda-nvrtc-cu11==11.7.99 in /home/salman/anaconda3/lib/python3.9/site-packages (from torch==1.13.1->torchvision) (11.7.99)\n",
      "Requirement already satisfied: nvidia-cuda-runtime-cu11==11.7.99 in /home/salman/anaconda3/lib/python3.9/site-packages (from torch==1.13.1->torchvision) (11.7.99)\n",
      "Requirement already satisfied: setuptools in /home/salman/anaconda3/lib/python3.9/site-packages (from nvidia-cublas-cu11==11.10.3.66->torch==1.13.1->torchvision) (58.0.4)\n",
      "Requirement already satisfied: wheel in /home/salman/anaconda3/lib/python3.9/site-packages (from nvidia-cublas-cu11==11.10.3.66->torch==1.13.1->torchvision) (0.37.0)\n",
      "Requirement already satisfied: urllib3<1.27,>=1.21.1 in /home/salman/anaconda3/lib/python3.9/site-packages (from requests->torchvision) (1.26.7)\n",
      "Requirement already satisfied: idna<4,>=2.5 in /home/salman/anaconda3/lib/python3.9/site-packages (from requests->torchvision) (3.2)\n",
      "Requirement already satisfied: certifi>=2017.4.17 in /home/salman/anaconda3/lib/python3.9/site-packages (from requests->torchvision) (2021.10.8)\n",
      "Requirement already satisfied: charset-normalizer~=2.0.0 in /home/salman/anaconda3/lib/python3.9/site-packages (from requests->torchvision) (2.0.4)\n",
      "Note: you may need to restart the kernel to use updated packages.\n"
     ]
    }
   ],
   "source": [
    "pip install torchvision"
   ]
  },
  {
   "cell_type": "code",
   "execution_count": 2,
   "id": "7902b3b2",
   "metadata": {},
   "outputs": [],
   "source": [
    "import torch\n",
    "import torchvision\n",
    "from torch.utils.data import DataLoader,Dataset\n",
    "import numpy as np\n",
    "import math"
   ]
  },
  {
   "cell_type": "code",
   "execution_count": 3,
   "id": "1a560d30",
   "metadata": {},
   "outputs": [],
   "source": [
    "class WineDataset(Dataset):\n",
    "    def __init__(self):\n",
    "        xy = np.loadtxt('wine.csv',delimiter=\",\",dtype=np.float32,skiprows=1)\n",
    "        self.x = torch.from_numpy(xy[:,1:])\n",
    "        self.y = torch.from_numpy(xy[:,[0]])\n",
    "        self.n_samples = xy.shape[0]\n",
    "    def __getitem__(self,index):\n",
    "        return self.x[index],self.y[index]\n",
    "    def __len__(self):\n",
    "        return self.n_samples"
   ]
  },
  {
   "cell_type": "code",
   "execution_count": 4,
   "id": "71be1dfc",
   "metadata": {},
   "outputs": [],
   "source": [
    "dataset = WineDataset()"
   ]
  },
  {
   "cell_type": "code",
   "execution_count": 5,
   "id": "ef195b2e",
   "metadata": {},
   "outputs": [],
   "source": [
    "first_data = dataset[0]"
   ]
  },
  {
   "cell_type": "code",
   "execution_count": 6,
   "id": "5890a926",
   "metadata": {},
   "outputs": [
    {
     "data": {
      "text/plain": [
       "(tensor([1.4230e+01, 1.7100e+00, 2.4300e+00, 1.5600e+01, 1.2700e+02, 2.8000e+00,\n",
       "         3.0600e+00, 2.8000e-01, 2.2900e+00, 5.6400e+00, 1.0400e+00, 3.9200e+00,\n",
       "         1.0650e+03]),\n",
       " tensor([1.]))"
      ]
     },
     "execution_count": 6,
     "metadata": {},
     "output_type": "execute_result"
    }
   ],
   "source": [
    "first_data"
   ]
  },
  {
   "cell_type": "code",
   "execution_count": 7,
   "id": "5e792b1f",
   "metadata": {},
   "outputs": [
    {
     "name": "stdout",
     "output_type": "stream",
     "text": [
      "tensor([1.4230e+01, 1.7100e+00, 2.4300e+00, 1.5600e+01, 1.2700e+02, 2.8000e+00,\n",
      "        3.0600e+00, 2.8000e-01, 2.2900e+00, 5.6400e+00, 1.0400e+00, 3.9200e+00,\n",
      "        1.0650e+03])\n",
      "tensor([1.])\n"
     ]
    }
   ],
   "source": [
    "features, labels = first_data\n",
    "print(features)\n",
    "print(labels)"
   ]
  },
  {
   "cell_type": "code",
   "execution_count": 8,
   "id": "386a6452",
   "metadata": {},
   "outputs": [],
   "source": [
    "# Dataloader\n",
    "dataloader = DataLoader(dataset=dataset,batch_size=4,shuffle=True,num_workers=2)"
   ]
  },
  {
   "cell_type": "code",
   "execution_count": 9,
   "id": "532aecc2",
   "metadata": {},
   "outputs": [],
   "source": [
    "dataiter = iter(dataloader)"
   ]
  },
  {
   "cell_type": "code",
   "execution_count": 10,
   "id": "4f3d2b38",
   "metadata": {},
   "outputs": [
    {
     "data": {
      "text/plain": [
       "<torch.utils.data.dataloader._MultiProcessingDataLoaderIter at 0x7f4bf0112b50>"
      ]
     },
     "execution_count": 10,
     "metadata": {},
     "output_type": "execute_result"
    }
   ],
   "source": [
    "dataiter"
   ]
  },
  {
   "cell_type": "code",
   "execution_count": 11,
   "id": "997de723",
   "metadata": {},
   "outputs": [],
   "source": [
    "data = next(dataiter)"
   ]
  },
  {
   "cell_type": "code",
   "execution_count": 12,
   "id": "b199ac0d",
   "metadata": {},
   "outputs": [
    {
     "data": {
      "text/plain": [
       "[tensor([[1.4100e+01, 2.1600e+00, 2.3000e+00, 1.8000e+01, 1.0500e+02, 2.9500e+00,\n",
       "          3.3200e+00, 2.2000e-01, 2.3800e+00, 5.7500e+00, 1.2500e+00, 3.1700e+00,\n",
       "          1.5100e+03],\n",
       "         [1.2290e+01, 3.1700e+00, 2.2100e+00, 1.8000e+01, 8.8000e+01, 2.8500e+00,\n",
       "          2.9900e+00, 4.5000e-01, 2.8100e+00, 2.3000e+00, 1.4200e+00, 2.8300e+00,\n",
       "          4.0600e+02],\n",
       "         [1.2430e+01, 1.5300e+00, 2.2900e+00, 2.1500e+01, 8.6000e+01, 2.7400e+00,\n",
       "          3.1500e+00, 3.9000e-01, 1.7700e+00, 3.9400e+00, 6.9000e-01, 2.8400e+00,\n",
       "          3.5200e+02],\n",
       "         [1.3240e+01, 2.5900e+00, 2.8700e+00, 2.1000e+01, 1.1800e+02, 2.8000e+00,\n",
       "          2.6900e+00, 3.9000e-01, 1.8200e+00, 4.3200e+00, 1.0400e+00, 2.9300e+00,\n",
       "          7.3500e+02]]),\n",
       " tensor([[1.],\n",
       "         [2.],\n",
       "         [2.],\n",
       "         [1.]])]"
      ]
     },
     "execution_count": 12,
     "metadata": {},
     "output_type": "execute_result"
    }
   ],
   "source": [
    "data"
   ]
  },
  {
   "cell_type": "code",
   "execution_count": 13,
   "id": "ce5a56d1",
   "metadata": {},
   "outputs": [
    {
     "name": "stdout",
     "output_type": "stream",
     "text": [
      "tensor([[1.4100e+01, 2.1600e+00, 2.3000e+00, 1.8000e+01, 1.0500e+02, 2.9500e+00,\n",
      "         3.3200e+00, 2.2000e-01, 2.3800e+00, 5.7500e+00, 1.2500e+00, 3.1700e+00,\n",
      "         1.5100e+03],\n",
      "        [1.2290e+01, 3.1700e+00, 2.2100e+00, 1.8000e+01, 8.8000e+01, 2.8500e+00,\n",
      "         2.9900e+00, 4.5000e-01, 2.8100e+00, 2.3000e+00, 1.4200e+00, 2.8300e+00,\n",
      "         4.0600e+02],\n",
      "        [1.2430e+01, 1.5300e+00, 2.2900e+00, 2.1500e+01, 8.6000e+01, 2.7400e+00,\n",
      "         3.1500e+00, 3.9000e-01, 1.7700e+00, 3.9400e+00, 6.9000e-01, 2.8400e+00,\n",
      "         3.5200e+02],\n",
      "        [1.3240e+01, 2.5900e+00, 2.8700e+00, 2.1000e+01, 1.1800e+02, 2.8000e+00,\n",
      "         2.6900e+00, 3.9000e-01, 1.8200e+00, 4.3200e+00, 1.0400e+00, 2.9300e+00,\n",
      "         7.3500e+02]])\n",
      "tensor([[1.],\n",
      "        [2.],\n",
      "        [2.],\n",
      "        [1.]])\n"
     ]
    }
   ],
   "source": [
    "features,labels = data\n",
    "print(features)\n",
    "print(labels)"
   ]
  },
  {
   "cell_type": "code",
   "execution_count": 14,
   "id": "d89916f0",
   "metadata": {},
   "outputs": [
    {
     "name": "stdout",
     "output_type": "stream",
     "text": [
      "178 45\n"
     ]
    }
   ],
   "source": [
    "#Training loop\n",
    "num_epochs = 2\n",
    "total_samples = len(dataset)\n",
    "n_iterations = math.ceil(total_samples/4)\n",
    "print(total_samples,n_iterations)"
   ]
  },
  {
   "cell_type": "code",
   "execution_count": 15,
   "id": "d0c82182",
   "metadata": {},
   "outputs": [
    {
     "name": "stdout",
     "output_type": "stream",
     "text": [
      "epoch 1/2, step 1/45,inputs torch.Size([4, 13])\n",
      "epoch 1/2, step 2/45,inputs torch.Size([4, 13])\n",
      "epoch 1/2, step 3/45,inputs torch.Size([4, 13])\n",
      "epoch 1/2, step 4/45,inputs torch.Size([4, 13])\n",
      "epoch 1/2, step 5/45,inputs torch.Size([4, 13])\n",
      "epoch 1/2, step 6/45,inputs torch.Size([4, 13])\n",
      "epoch 1/2, step 7/45,inputs torch.Size([4, 13])\n",
      "epoch 1/2, step 8/45,inputs torch.Size([4, 13])\n",
      "epoch 1/2, step 9/45,inputs torch.Size([4, 13])\n",
      "epoch 1/2, step 10/45,inputs torch.Size([4, 13])\n",
      "epoch 1/2, step 11/45,inputs torch.Size([4, 13])\n",
      "epoch 1/2, step 12/45,inputs torch.Size([4, 13])\n",
      "epoch 1/2, step 13/45,inputs torch.Size([4, 13])\n",
      "epoch 1/2, step 14/45,inputs torch.Size([4, 13])\n",
      "epoch 1/2, step 15/45,inputs torch.Size([4, 13])\n",
      "epoch 1/2, step 16/45,inputs torch.Size([4, 13])\n",
      "epoch 1/2, step 17/45,inputs torch.Size([4, 13])\n",
      "epoch 1/2, step 18/45,inputs torch.Size([4, 13])\n",
      "epoch 1/2, step 19/45,inputs torch.Size([4, 13])\n",
      "epoch 1/2, step 20/45,inputs torch.Size([4, 13])\n",
      "epoch 1/2, step 21/45,inputs torch.Size([4, 13])\n",
      "epoch 1/2, step 22/45,inputs torch.Size([4, 13])\n",
      "epoch 1/2, step 23/45,inputs torch.Size([4, 13])\n",
      "epoch 1/2, step 24/45,inputs torch.Size([4, 13])\n",
      "epoch 1/2, step 25/45,inputs torch.Size([4, 13])\n",
      "epoch 1/2, step 26/45,inputs torch.Size([4, 13])\n",
      "epoch 1/2, step 27/45,inputs torch.Size([4, 13])\n",
      "epoch 1/2, step 28/45,inputs torch.Size([4, 13])\n",
      "epoch 1/2, step 29/45,inputs torch.Size([4, 13])\n",
      "epoch 1/2, step 30/45,inputs torch.Size([4, 13])\n",
      "epoch 1/2, step 31/45,inputs torch.Size([4, 13])\n",
      "epoch 1/2, step 32/45,inputs torch.Size([4, 13])\n",
      "epoch 1/2, step 33/45,inputs torch.Size([4, 13])\n",
      "epoch 1/2, step 34/45,inputs torch.Size([4, 13])\n",
      "epoch 1/2, step 35/45,inputs torch.Size([4, 13])\n",
      "epoch 1/2, step 36/45,inputs torch.Size([4, 13])\n",
      "epoch 1/2, step 37/45,inputs torch.Size([4, 13])\n",
      "epoch 1/2, step 38/45,inputs torch.Size([4, 13])\n",
      "epoch 1/2, step 39/45,inputs torch.Size([4, 13])\n",
      "epoch 1/2, step 40/45,inputs torch.Size([4, 13])\n",
      "epoch 1/2, step 41/45,inputs torch.Size([4, 13])\n",
      "epoch 1/2, step 42/45,inputs torch.Size([4, 13])\n",
      "epoch 1/2, step 43/45,inputs torch.Size([4, 13])\n",
      "epoch 1/2, step 44/45,inputs torch.Size([4, 13])\n",
      "epoch 1/2, step 45/45,inputs torch.Size([2, 13])\n",
      "epoch 2/2, step 1/45,inputs torch.Size([4, 13])\n",
      "epoch 2/2, step 2/45,inputs torch.Size([4, 13])\n",
      "epoch 2/2, step 3/45,inputs torch.Size([4, 13])\n",
      "epoch 2/2, step 4/45,inputs torch.Size([4, 13])\n",
      "epoch 2/2, step 5/45,inputs torch.Size([4, 13])\n",
      "epoch 2/2, step 6/45,inputs torch.Size([4, 13])\n",
      "epoch 2/2, step 7/45,inputs torch.Size([4, 13])\n",
      "epoch 2/2, step 8/45,inputs torch.Size([4, 13])\n",
      "epoch 2/2, step 9/45,inputs torch.Size([4, 13])\n",
      "epoch 2/2, step 10/45,inputs torch.Size([4, 13])\n",
      "epoch 2/2, step 11/45,inputs torch.Size([4, 13])\n",
      "epoch 2/2, step 12/45,inputs torch.Size([4, 13])\n",
      "epoch 2/2, step 13/45,inputs torch.Size([4, 13])\n",
      "epoch 2/2, step 14/45,inputs torch.Size([4, 13])\n",
      "epoch 2/2, step 15/45,inputs torch.Size([4, 13])\n",
      "epoch 2/2, step 16/45,inputs torch.Size([4, 13])\n",
      "epoch 2/2, step 17/45,inputs torch.Size([4, 13])\n",
      "epoch 2/2, step 18/45,inputs torch.Size([4, 13])\n",
      "epoch 2/2, step 19/45,inputs torch.Size([4, 13])\n",
      "epoch 2/2, step 20/45,inputs torch.Size([4, 13])\n",
      "epoch 2/2, step 21/45,inputs torch.Size([4, 13])\n",
      "epoch 2/2, step 22/45,inputs torch.Size([4, 13])\n",
      "epoch 2/2, step 23/45,inputs torch.Size([4, 13])\n",
      "epoch 2/2, step 24/45,inputs torch.Size([4, 13])\n",
      "epoch 2/2, step 25/45,inputs torch.Size([4, 13])\n",
      "epoch 2/2, step 26/45,inputs torch.Size([4, 13])\n",
      "epoch 2/2, step 27/45,inputs torch.Size([4, 13])\n",
      "epoch 2/2, step 28/45,inputs torch.Size([4, 13])\n",
      "epoch 2/2, step 29/45,inputs torch.Size([4, 13])\n",
      "epoch 2/2, step 30/45,inputs torch.Size([4, 13])\n",
      "epoch 2/2, step 31/45,inputs torch.Size([4, 13])\n",
      "epoch 2/2, step 32/45,inputs torch.Size([4, 13])\n",
      "epoch 2/2, step 33/45,inputs torch.Size([4, 13])\n",
      "epoch 2/2, step 34/45,inputs torch.Size([4, 13])\n",
      "epoch 2/2, step 35/45,inputs torch.Size([4, 13])\n",
      "epoch 2/2, step 36/45,inputs torch.Size([4, 13])\n",
      "epoch 2/2, step 37/45,inputs torch.Size([4, 13])\n",
      "epoch 2/2, step 38/45,inputs torch.Size([4, 13])\n",
      "epoch 2/2, step 39/45,inputs torch.Size([4, 13])\n",
      "epoch 2/2, step 40/45,inputs torch.Size([4, 13])\n",
      "epoch 2/2, step 41/45,inputs torch.Size([4, 13])\n",
      "epoch 2/2, step 42/45,inputs torch.Size([4, 13])\n",
      "epoch 2/2, step 43/45,inputs torch.Size([4, 13])\n",
      "epoch 2/2, step 44/45,inputs torch.Size([4, 13])\n",
      "epoch 2/2, step 45/45,inputs torch.Size([2, 13])\n"
     ]
    }
   ],
   "source": [
    "for epoch in range(num_epochs):\n",
    "    for i,(inputs,labels) in enumerate(dataloader):\n",
    "        if (i+1)%1==0:\n",
    "            print(f'epoch {epoch+1}/{num_epochs}, step {i+1}/{n_iterations},inputs {inputs.shape}')"
   ]
  },
  {
   "cell_type": "code",
   "execution_count": null,
   "id": "d4c560c9",
   "metadata": {},
   "outputs": [],
   "source": []
  }
 ],
 "metadata": {
  "kernelspec": {
   "display_name": "Python 3 (ipykernel)",
   "language": "python",
   "name": "python3"
  },
  "language_info": {
   "codemirror_mode": {
    "name": "ipython",
    "version": 3
   },
   "file_extension": ".py",
   "mimetype": "text/x-python",
   "name": "python",
   "nbconvert_exporter": "python",
   "pygments_lexer": "ipython3",
   "version": "3.9.7"
  }
 },
 "nbformat": 4,
 "nbformat_minor": 5
}

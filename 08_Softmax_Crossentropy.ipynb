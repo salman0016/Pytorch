{
 "cells": [
  {
   "cell_type": "code",
   "execution_count": 1,
   "id": "13bbc17b",
   "metadata": {},
   "outputs": [],
   "source": [
    "import torch\n",
    "import torch.nn as nn\n",
    "import numpy as np"
   ]
  },
  {
   "cell_type": "code",
   "execution_count": 2,
   "id": "de5e96d7",
   "metadata": {},
   "outputs": [],
   "source": [
    "def softmax(x):\n",
    "    return np.exp(x)/np.sum(np.exp(x),axis=0)"
   ]
  },
  {
   "cell_type": "code",
   "execution_count": 3,
   "id": "64dc6ba4",
   "metadata": {},
   "outputs": [],
   "source": [
    "x = np.array([2.0,1.0,0.1])"
   ]
  },
  {
   "cell_type": "code",
   "execution_count": 4,
   "id": "447fc428",
   "metadata": {},
   "outputs": [],
   "source": [
    "outputs = softmax(x)"
   ]
  },
  {
   "cell_type": "code",
   "execution_count": 5,
   "id": "761298c3",
   "metadata": {},
   "outputs": [
    {
     "name": "stdout",
     "output_type": "stream",
     "text": [
      "softmax numpy: [0.65900114 0.24243297 0.09856589]\n"
     ]
    }
   ],
   "source": [
    "print('softmax numpy:' ,outputs)"
   ]
  },
  {
   "cell_type": "code",
   "execution_count": 6,
   "id": "d2dd6682",
   "metadata": {},
   "outputs": [],
   "source": [
    "x = torch.tensor([2.0,1.0,0.1])"
   ]
  },
  {
   "cell_type": "code",
   "execution_count": 7,
   "id": "1ed68f6c",
   "metadata": {},
   "outputs": [],
   "source": [
    "outputs = torch.softmax(x,dim=0)"
   ]
  },
  {
   "cell_type": "code",
   "execution_count": 8,
   "id": "638d412c",
   "metadata": {},
   "outputs": [
    {
     "name": "stdout",
     "output_type": "stream",
     "text": [
      "tensor([0.6590, 0.2424, 0.0986])\n"
     ]
    }
   ],
   "source": [
    "print(outputs)"
   ]
  },
  {
   "cell_type": "code",
   "execution_count": 9,
   "id": "862b00ad",
   "metadata": {},
   "outputs": [],
   "source": [
    "# Cross Entropy"
   ]
  },
  {
   "cell_type": "code",
   "execution_count": 10,
   "id": "2904b32f",
   "metadata": {},
   "outputs": [],
   "source": [
    "#y = [1,0,0]\n",
    "#y_hat = [0.7,0.2,0.1]\n",
    "#y = [1,0,0]\n",
    "#y_hat = [0.1,0.3,0.6]"
   ]
  },
  {
   "cell_type": "code",
   "execution_count": 11,
   "id": "6c510b73",
   "metadata": {},
   "outputs": [],
   "source": [
    "import torch\n",
    "import torch.nn as nn\n",
    "import numpy as np"
   ]
  },
  {
   "cell_type": "code",
   "execution_count": 12,
   "id": "ec777047",
   "metadata": {},
   "outputs": [],
   "source": [
    "def cross_entropy(actual,predicted):\n",
    "    loss = -np.sum(actual*np.log(predicted))\n",
    "    return loss"
   ]
  },
  {
   "cell_type": "code",
   "execution_count": 13,
   "id": "774261cd",
   "metadata": {},
   "outputs": [],
   "source": [
    "y = np.array([1,0,0])"
   ]
  },
  {
   "cell_type": "code",
   "execution_count": 14,
   "id": "29169486",
   "metadata": {},
   "outputs": [],
   "source": [
    "y_pred_good = np.array([0.7,0.2,0.1])\n",
    "y_pred_bad = np.array([0.1,0.3,0.6])"
   ]
  },
  {
   "cell_type": "code",
   "execution_count": 15,
   "id": "f44a59e0",
   "metadata": {},
   "outputs": [],
   "source": [
    "l1 = cross_entropy(y,y_pred_good)"
   ]
  },
  {
   "cell_type": "code",
   "execution_count": 16,
   "id": "cc0c1650",
   "metadata": {},
   "outputs": [
    {
     "data": {
      "text/plain": [
       "0.35667494393873245"
      ]
     },
     "execution_count": 16,
     "metadata": {},
     "output_type": "execute_result"
    }
   ],
   "source": [
    "l1"
   ]
  },
  {
   "cell_type": "code",
   "execution_count": 17,
   "id": "1cdd49df",
   "metadata": {},
   "outputs": [],
   "source": [
    "l2 = cross_entropy(y,y_pred_bad)"
   ]
  },
  {
   "cell_type": "code",
   "execution_count": 18,
   "id": "30dffdba",
   "metadata": {},
   "outputs": [
    {
     "data": {
      "text/plain": [
       "2.3025850929940455"
      ]
     },
     "execution_count": 18,
     "metadata": {},
     "output_type": "execute_result"
    }
   ],
   "source": [
    "l2"
   ]
  },
  {
   "cell_type": "code",
   "execution_count": 19,
   "id": "9d9da03b",
   "metadata": {},
   "outputs": [],
   "source": [
    "# Pytorch"
   ]
  },
  {
   "cell_type": "code",
   "execution_count": 20,
   "id": "4f1f0975",
   "metadata": {},
   "outputs": [],
   "source": [
    "loss = nn.CrossEntropyLoss()"
   ]
  },
  {
   "cell_type": "code",
   "execution_count": 21,
   "id": "8d8fa593",
   "metadata": {},
   "outputs": [],
   "source": [
    "y = torch.tensor([0])"
   ]
  },
  {
   "cell_type": "code",
   "execution_count": 22,
   "id": "517345b5",
   "metadata": {},
   "outputs": [
    {
     "data": {
      "text/plain": [
       "tensor([0])"
      ]
     },
     "execution_count": 22,
     "metadata": {},
     "output_type": "execute_result"
    }
   ],
   "source": [
    "y"
   ]
  },
  {
   "cell_type": "code",
   "execution_count": 23,
   "id": "d0ea4f43",
   "metadata": {},
   "outputs": [],
   "source": [
    "y_pred_good = torch.tensor([[2.0,1.0,0.1]])\n",
    "y_pred_bad = torch.tensor([[0.5,2.0,0.3]])"
   ]
  },
  {
   "cell_type": "code",
   "execution_count": 24,
   "id": "865961ba",
   "metadata": {},
   "outputs": [],
   "source": [
    "l1 = loss(y_pred_good,y)"
   ]
  },
  {
   "cell_type": "code",
   "execution_count": 25,
   "id": "c07e1dc9",
   "metadata": {},
   "outputs": [
    {
     "data": {
      "text/plain": [
       "tensor(0.4170)"
      ]
     },
     "execution_count": 25,
     "metadata": {},
     "output_type": "execute_result"
    }
   ],
   "source": [
    "l1"
   ]
  },
  {
   "cell_type": "code",
   "execution_count": 26,
   "id": "04592fec",
   "metadata": {},
   "outputs": [],
   "source": [
    "l2 = loss(y_pred_bad,y)"
   ]
  },
  {
   "cell_type": "code",
   "execution_count": 27,
   "id": "6a075883",
   "metadata": {},
   "outputs": [
    {
     "data": {
      "text/plain": [
       "tensor(1.8406)"
      ]
     },
     "execution_count": 27,
     "metadata": {},
     "output_type": "execute_result"
    }
   ],
   "source": [
    "l2"
   ]
  },
  {
   "cell_type": "code",
   "execution_count": 28,
   "id": "e3c39415",
   "metadata": {},
   "outputs": [
    {
     "name": "stdout",
     "output_type": "stream",
     "text": [
      "0.4170299470424652\n"
     ]
    }
   ],
   "source": [
    "print(l1.item())"
   ]
  },
  {
   "cell_type": "code",
   "execution_count": 29,
   "id": "a3f74752",
   "metadata": {},
   "outputs": [
    {
     "name": "stdout",
     "output_type": "stream",
     "text": [
      "1.840616226196289\n"
     ]
    }
   ],
   "source": [
    "print(l2.item())"
   ]
  },
  {
   "cell_type": "code",
   "execution_count": 30,
   "id": "e62d28f8",
   "metadata": {},
   "outputs": [],
   "source": [
    "_,prediction1 = torch.max(y_pred_good,1)"
   ]
  },
  {
   "cell_type": "code",
   "execution_count": 31,
   "id": "0b95494c",
   "metadata": {},
   "outputs": [],
   "source": [
    "_,prediction2 = torch.max(y_pred_bad,1)"
   ]
  },
  {
   "cell_type": "code",
   "execution_count": 32,
   "id": "65ebd9ea",
   "metadata": {},
   "outputs": [
    {
     "data": {
      "text/plain": [
       "tensor([0])"
      ]
     },
     "execution_count": 32,
     "metadata": {},
     "output_type": "execute_result"
    }
   ],
   "source": [
    "prediction1"
   ]
  },
  {
   "cell_type": "code",
   "execution_count": 33,
   "id": "ca4cfa83",
   "metadata": {},
   "outputs": [
    {
     "data": {
      "text/plain": [
       "tensor([1])"
      ]
     },
     "execution_count": 33,
     "metadata": {},
     "output_type": "execute_result"
    }
   ],
   "source": [
    "prediction2"
   ]
  },
  {
   "cell_type": "code",
   "execution_count": 34,
   "id": "c8fc8df5",
   "metadata": {},
   "outputs": [],
   "source": [
    "##################################"
   ]
  },
  {
   "cell_type": "code",
   "execution_count": 35,
   "id": "110ba099",
   "metadata": {},
   "outputs": [],
   "source": [
    "import torch\n",
    "import torch.nn as nn\n",
    "import numpy as np"
   ]
  },
  {
   "cell_type": "code",
   "execution_count": 36,
   "id": "0f5e10ba",
   "metadata": {},
   "outputs": [],
   "source": [
    "def softmax(x):\n",
    "    return np.exp(x)/np.sum(np.sum(np.exp(x),axis=0))"
   ]
  },
  {
   "cell_type": "code",
   "execution_count": 37,
   "id": "3fcc2590",
   "metadata": {},
   "outputs": [
    {
     "name": "stdout",
     "output_type": "stream",
     "text": [
      "[0.65900114 0.24243297 0.09856589]\n"
     ]
    }
   ],
   "source": [
    "x = np.array([2.0,1.0,0.1])\n",
    "outputs = softmax(x)\n",
    "print(outputs)"
   ]
  },
  {
   "cell_type": "code",
   "execution_count": 38,
   "id": "6c58f0e5",
   "metadata": {},
   "outputs": [
    {
     "name": "stdout",
     "output_type": "stream",
     "text": [
      "tensor([0.6590, 0.2424, 0.0986])\n"
     ]
    }
   ],
   "source": [
    "x = torch.tensor([2.0,1.0,0.1])\n",
    "outputs = torch.softmax(x,dim=0)\n",
    "print(outputs)"
   ]
  },
  {
   "cell_type": "code",
   "execution_count": 39,
   "id": "1ad7a441",
   "metadata": {},
   "outputs": [],
   "source": [
    "# Crossentropy"
   ]
  },
  {
   "cell_type": "code",
   "execution_count": 40,
   "id": "b8389397",
   "metadata": {},
   "outputs": [],
   "source": [
    "def crossentropy(actual,predicted):\n",
    "    EPS = 1e-15\n",
    "    predicted = np.clip(predicted,EPS, 1-EPS)\n",
    "    loss = -np.sum(actual*np.log(predicted))\n",
    "    return loss"
   ]
  },
  {
   "cell_type": "code",
   "execution_count": 41,
   "id": "7c3a2f27",
   "metadata": {},
   "outputs": [],
   "source": [
    "y = np.array([1,0,0])"
   ]
  },
  {
   "cell_type": "code",
   "execution_count": 42,
   "id": "7b6217b6",
   "metadata": {},
   "outputs": [],
   "source": [
    "y_pred_good = np.array([0.7,0.2,0.1])\n",
    "y_pred_bad = np.array([0.1,0.3,0.6])"
   ]
  },
  {
   "cell_type": "code",
   "execution_count": 43,
   "id": "54114f3b",
   "metadata": {},
   "outputs": [
    {
     "name": "stdout",
     "output_type": "stream",
     "text": [
      "0.35667494393873245\n",
      "2.3025850929940455\n"
     ]
    }
   ],
   "source": [
    "l1 = crossentropy(y,y_pred_good)\n",
    "l2 = crossentropy(y,y_pred_bad)\n",
    "print(l1)\n",
    "print(l2)"
   ]
  },
  {
   "cell_type": "code",
   "execution_count": 44,
   "id": "4f2d281b",
   "metadata": {},
   "outputs": [],
   "source": [
    "#########   PYTORCH   #########"
   ]
  },
  {
   "cell_type": "code",
   "execution_count": 45,
   "id": "9c49434b",
   "metadata": {},
   "outputs": [],
   "source": [
    "loss = nn.CrossEntropyLoss()"
   ]
  },
  {
   "cell_type": "code",
   "execution_count": 46,
   "id": "4f05e394",
   "metadata": {},
   "outputs": [],
   "source": [
    "y = torch.tensor([0])"
   ]
  },
  {
   "cell_type": "code",
   "execution_count": 47,
   "id": "1a6cc0cb",
   "metadata": {},
   "outputs": [],
   "source": [
    "y_pred_good = torch.tensor([[2.0,1.0,0.1]])\n",
    "y_pred_bad = torch.tensor([[0.5,2.0,0.3]])"
   ]
  },
  {
   "cell_type": "code",
   "execution_count": 48,
   "id": "78a7e4d5",
   "metadata": {},
   "outputs": [],
   "source": [
    "l1 = loss(y_pred_good,y)"
   ]
  },
  {
   "cell_type": "code",
   "execution_count": 49,
   "id": "6a86e0f2",
   "metadata": {},
   "outputs": [],
   "source": [
    "l2 = loss(y_pred_bad,y)"
   ]
  },
  {
   "cell_type": "code",
   "execution_count": 50,
   "id": "dfe45486",
   "metadata": {},
   "outputs": [
    {
     "name": "stdout",
     "output_type": "stream",
     "text": [
      "tensor(0.4170)\n",
      "tensor(1.8406)\n"
     ]
    }
   ],
   "source": [
    "print(l1)\n",
    "print(l2)"
   ]
  },
  {
   "cell_type": "code",
   "execution_count": 51,
   "id": "751bf5d3",
   "metadata": {},
   "outputs": [],
   "source": [
    "# Get Predictions"
   ]
  },
  {
   "cell_type": "code",
   "execution_count": 52,
   "id": "6628b9d6",
   "metadata": {},
   "outputs": [],
   "source": [
    "x,predictions1 = torch.max(y_pred_good,1)"
   ]
  },
  {
   "cell_type": "code",
   "execution_count": 53,
   "id": "8cdf9437",
   "metadata": {},
   "outputs": [
    {
     "data": {
      "text/plain": [
       "tensor([2.])"
      ]
     },
     "execution_count": 53,
     "metadata": {},
     "output_type": "execute_result"
    }
   ],
   "source": [
    "x"
   ]
  },
  {
   "cell_type": "code",
   "execution_count": 54,
   "id": "a90d75ac",
   "metadata": {},
   "outputs": [
    {
     "data": {
      "text/plain": [
       "tensor([0])"
      ]
     },
     "execution_count": 54,
     "metadata": {},
     "output_type": "execute_result"
    }
   ],
   "source": [
    "prediction1"
   ]
  },
  {
   "cell_type": "code",
   "execution_count": 55,
   "id": "91665e84",
   "metadata": {},
   "outputs": [],
   "source": [
    "# Batch Size = 3"
   ]
  },
  {
   "cell_type": "code",
   "execution_count": 56,
   "id": "083c64d6",
   "metadata": {},
   "outputs": [],
   "source": [
    "y = torch.tensor([2,0,1])"
   ]
  },
  {
   "cell_type": "code",
   "execution_count": 57,
   "id": "98f1c00b",
   "metadata": {},
   "outputs": [],
   "source": [
    "y_pred_good = torch.tensor(\n",
    "[[0.1,0.2,3.9],\n",
    "[1.2,0.1,0.3],\n",
    "[0.3,2.2,0.2]])"
   ]
  },
  {
   "cell_type": "code",
   "execution_count": 58,
   "id": "52c70327",
   "metadata": {},
   "outputs": [],
   "source": [
    "y_pred_bad = torch.tensor(\n",
    "[[0.9,0.2,0.1],\n",
    "[0.1,0.3,1.5],\n",
    "[1.2,0.2,0.5]])"
   ]
  },
  {
   "cell_type": "code",
   "execution_count": 59,
   "id": "dfd359e6",
   "metadata": {},
   "outputs": [],
   "source": [
    "l1 = loss(y_pred_good,y)"
   ]
  },
  {
   "cell_type": "code",
   "execution_count": 60,
   "id": "8b5ee92e",
   "metadata": {},
   "outputs": [],
   "source": [
    "l2 = loss(y_pred_bad,y)"
   ]
  },
  {
   "cell_type": "code",
   "execution_count": 61,
   "id": "e2ccf283",
   "metadata": {},
   "outputs": [
    {
     "name": "stdout",
     "output_type": "stream",
     "text": [
      "tensor(0.2834)\n",
      "tensor(1.6418)\n"
     ]
    }
   ],
   "source": [
    "print(l1)\n",
    "print(l2)"
   ]
  },
  {
   "cell_type": "code",
   "execution_count": 62,
   "id": "d45bb12d",
   "metadata": {},
   "outputs": [
    {
     "name": "stdout",
     "output_type": "stream",
     "text": [
      "Actual class:tensor([2, 0, 1]),y_pred1:tensor([2, 0, 1]),y_pred2:tensor([0, 2, 0])\n"
     ]
    }
   ],
   "source": [
    "_,predictions1 = torch.max(y_pred_good,1)\n",
    "_,predictions2 = torch.max(y_pred_bad,1)\n",
    "print(f'Actual class:{y},y_pred1:{predictions1},y_pred2:{predictions2}')"
   ]
  },
  {
   "cell_type": "code",
   "execution_count": null,
   "id": "b6767eee",
   "metadata": {},
   "outputs": [],
   "source": []
  }
 ],
 "metadata": {
  "kernelspec": {
   "display_name": "Python 3 (ipykernel)",
   "language": "python",
   "name": "python3"
  },
  "language_info": {
   "codemirror_mode": {
    "name": "ipython",
    "version": 3
   },
   "file_extension": ".py",
   "mimetype": "text/x-python",
   "name": "python",
   "nbconvert_exporter": "python",
   "pygments_lexer": "ipython3",
   "version": "3.9.7"
  }
 },
 "nbformat": 4,
 "nbformat_minor": 5
}
